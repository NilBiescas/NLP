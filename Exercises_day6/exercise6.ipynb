{
  "cells": [
    {
      "cell_type": "code",
      "execution_count": 1,
      "metadata": {
        "id": "_07eBzRhjzLH"
      },
      "outputs": [],
      "source": [
        "import torch\n",
        "import torch.nn as nn\n",
        "import torch.nn.functional as F\n",
        "from torch.utils.data import DataLoader, Dataset\n",
        "import nltk\n",
        "import string\n",
        "from tqdm import tqdm"
      ]
    },
    {
      "cell_type": "code",
      "execution_count": 7,
      "metadata": {
        "colab": {
          "base_uri": "https://localhost:8080/"
        },
        "id": "Fhpb_e0dkahB",
        "outputId": "bdac7a4f-0115-4116-e92d-f51685aa7eda"
      },
      "outputs": [
        {
          "name": "stderr",
          "output_type": "stream",
          "text": [
            "[nltk_data] Downloading package punkt to /root/nltk_data...\n",
            "[nltk_data]   Unzipping tokenizers/punkt.zip.\n"
          ]
        },
        {
          "data": {
            "text/plain": [
              "True"
            ]
          },
          "execution_count": 7,
          "metadata": {},
          "output_type": "execute_result"
        }
      ],
      "source": [
        "nltk.download(\"punkt\")"
      ]
    },
    {
      "cell_type": "code",
      "execution_count": 56,
      "metadata": {
        "id": "LrRIoycvjzLJ"
      },
      "outputs": [],
      "source": [
        "# Dataset class\n",
        "\n",
        "class Dataset_Translation(Dataset):\n",
        "    def __init__(self, lines, word2idx_X=None, word2idx_Y=None):\n",
        "        punctuation = set(string.punctuation) | set([\"'\", '”', '“', \"’\", \"‘\"])\n",
        "        self.len = len(lines)\n",
        "        self.X = []\n",
        "        self.Y = []\n",
        "        self.vocab_X = set()\n",
        "        self.vocab_Y = set()\n",
        "        for line in tqdm(lines):\n",
        "            line_splited = line.split('\\t')\n",
        "            # Tokenize the input and target strings\n",
        "            tokenized_texts = [nltk.word_tokenize(sent) for sent in line_splited[:2]]\n",
        "            # Remove punctuation\n",
        "            tokenized_texts = [[word for word in sent if word not in punctuation] for sent in tokenized_texts]\n",
        "            self.X.append(tokenized_texts[0])\n",
        "            self.Y.append(tokenized_texts[1])\n",
        "\n",
        "            # Update the vocabulary\n",
        "            self.vocab_X.update(tokenized_texts[0])\n",
        "            self.vocab_Y.update(tokenized_texts[1])\n",
        "\n",
        "        self.vocab_X.add('<s>')\n",
        "        self.vocab_X.add('</s>')\n",
        "        self.vocab_X.add('<PAD>')\n",
        "        # self.vocab_X.add('<UNK>') # DESCOMENTAR-HO\n",
        "\n",
        "        self.vocab_Y.add('<s>')\n",
        "        self.vocab_Y.add('</s>')\n",
        "        self.vocab_Y.add('<PAD>')\n",
        "        # self.vocab_Y.add('<UNK>')\n",
        "\n",
        "        if word2idx_X is None:\n",
        "            self.word2idx_X = {word: idx for idx, word in enumerate(sorted(list(self.vocab_X)))}\n",
        "        else:\n",
        "            self.word2idx_X = word2idx_X\n",
        "\n",
        "        if word2idx_Y is None:\n",
        "            self.word2idx_Y = {word: idx for idx, word in enumerate(sorted(list(self.vocab_Y)))}\n",
        "        else:\n",
        "            self.word2idx_Y = word2idx_Y\n",
        "\n",
        "        self.MAX_LENGTH_out = max([len(y) for y in self.Y])\n",
        "        self.MAX_LENGTH_in = max([len(x) for x in self.X])\n",
        "\n",
        "        for i in range(len(self.X)):\n",
        "            self.Y[i] = ['<s>'] + self.Y[i] + ['</s>'] + ['<PAD>'] * (self.MAX_LENGTH_out - len(self.Y[i]))\n",
        "            self.X[i] = ['<PAD>'] * (self.MAX_LENGTH_in - len(self.X[i])) + ['<s>'] + self.X[i] + ['</s>']\n",
        "\n",
        "        for i in range(len(self.X)):\n",
        "            self.X[i] = [self.word2idx_X[word] if word in self.word2idx_X else 0 for word in self.X[i]] # Canviar a \"UNK\" # Que no em donava temps a tornar a entrenar el model\n",
        "            self.Y[i] = [self.word2idx_Y[word] if word in self.word2idx_Y else 0 for word in self.Y[i]] # Canviar a \"UNK\"\n",
        "\n",
        "        self.X = torch.tensor(self.X)\n",
        "        self.Y = torch.tensor(self.Y)\n",
        "\n",
        "    def __len__(self):\n",
        "        return self.len\n",
        "\n",
        "    def __getitem__(self, idx):\n",
        "        return self.X[idx], self.Y[idx]"
      ]
    },
    {
      "cell_type": "code",
      "execution_count": 8,
      "metadata": {
        "colab": {
          "base_uri": "https://localhost:8080/"
        },
        "id": "YUjHBt5xjzLT",
        "outputId": "27b2abfd-e246-42d6-e7d7-cd1ca138382e"
      },
      "outputs": [
        {
          "name": "stderr",
          "output_type": "stream",
          "text": [
            "100%|██████████| 102467/102467 [00:20<00:00, 4880.71it/s]\n",
            "100%|██████████| 12808/12808 [00:02<00:00, 5361.88it/s]\n",
            "100%|██████████| 12809/12809 [00:02<00:00, 5086.89it/s]\n"
          ]
        }
      ],
      "source": [
        "with open('spa.txt', 'r') as f:\n",
        "    lines = f.readlines()\n",
        "\n",
        "from sklearn.model_selection import train_test_split\n",
        "\n",
        "train_lines, test_lines = train_test_split(lines, test_size=0.2, random_state=42)\n",
        "test_lines, val_lines = train_test_split(test_lines, test_size=0.5, random_state=42)\n",
        "\n",
        "train_dataset = Dataset_Translation(train_lines)"
      ]
    },
    {
      "cell_type": "code",
      "execution_count": 57,
      "metadata": {
        "colab": {
          "base_uri": "https://localhost:8080/"
        },
        "id": "L6CupFD6q8Gc",
        "outputId": "43c8793c-80e4-4347-e8bf-95581eba5283"
      },
      "outputs": [
        {
          "name": "stderr",
          "output_type": "stream",
          "text": [
            "100%|██████████| 12808/12808 [00:03<00:00, 3211.45it/s]\n",
            "100%|██████████| 12809/12809 [00:02<00:00, 4833.41it/s]\n"
          ]
        }
      ],
      "source": [
        "test_dataset = Dataset_Translation(test_lines, word2idx_X=train_dataset.word2idx_X, word2idx_Y=train_dataset.word2idx_Y)\n",
        "val_dataset = Dataset_Translation(val_lines, word2idx_X=train_dataset.word2idx_X, word2idx_Y=train_dataset.word2idx_Y)"
      ]
    },
    {
      "cell_type": "code",
      "execution_count": 59,
      "metadata": {
        "id": "IDtuLvdZlRZ-"
      },
      "outputs": [],
      "source": [
        "# Dataloader class\n",
        "train_dataloader = DataLoader(train_dataset, batch_size=150, shuffle=True)\n",
        "test_dataloader = DataLoader(test_dataset, batch_size=150, shuffle=False)\n",
        "val_dataloader = DataLoader(val_dataset, batch_size=150, shuffle=False)"
      ]
    },
    {
      "cell_type": "code",
      "execution_count": 9,
      "metadata": {
        "colab": {
          "base_uri": "https://localhost:8080/"
        },
        "id": "DBd6Ie4RjzLU",
        "outputId": "46c87a3e-de63-4cc1-f2c1-5eb54b142f70"
      },
      "outputs": [
        {
          "name": "stdout",
          "output_type": "stream",
          "text": [
            "14166 27914\n"
          ]
        }
      ],
      "source": [
        "print(train_dataset.vocab_X.__len__(), train_dataset.vocab_Y.__len__())"
      ]
    },
    {
      "cell_type": "code",
      "execution_count": 39,
      "metadata": {
        "id": "3fXc9mSNjzLV"
      },
      "outputs": [],
      "source": [
        "class Translator(nn.Module):\n",
        "    def __init__(self, vocab_size_input, vocab_size_target, target_len, S_token_id, hidden_size=300, n_layers=1, dropout=0.1):\n",
        "        super(Translator, self).__init__()\n",
        "        self.device = torch.device('cuda' if torch.cuda.is_available() else 'cpu')\n",
        "        self.hidden_size = hidden_size\n",
        "        self.n_layers = n_layers\n",
        "        self.target_len = target_len\n",
        "        self.S_token_id = S_token_id\n",
        "\n",
        "        self.embedding = nn.Embedding(vocab_size_input, hidden_size)\n",
        "        self.lstm_enc = nn.LSTM(hidden_size, hidden_size, n_layers, batch_first=True)\n",
        "        self.lstm_dec = nn.LSTM(hidden_size, hidden_size, n_layers, batch_first=True)\n",
        "\n",
        "        self.projection = nn.Sequential(\n",
        "            nn.Dropout(dropout),\n",
        "            nn.Linear(hidden_size, vocab_size_target)\n",
        "        )\n",
        "\n",
        "    def forward(self, input):\n",
        "        batch_size = input.size(0)\n",
        "        hidden = torch.zeros(self.n_layers, batch_size, self.hidden_size).to(self.device)\n",
        "        cell = torch.zeros(self.n_layers, batch_size, self.hidden_size).to(self.device)\n",
        "\n",
        "\n",
        "        embedded = self.embedding(input)\n",
        "        _, (hidden, cell) = self.lstm_enc(embedded, (hidden, cell))\n",
        "\n",
        "\n",
        "        inp = self.embedding(torch.tensor([self.S_token_id]*batch_size).to(self.device)).unsqueeze(1)\n",
        "        h0 = hidden\n",
        "        c0 = torch.zeros_like(h0).to(self.device)\n",
        "\n",
        "        pred = self.projection(inp)\n",
        "        for i in range(self.target_len - 1): # rm <SOS>\n",
        "            out, (h0, c0) = self.lstm_dec(inp, (h0, c0)) # 1, batch, 512\n",
        "\n",
        "            pred = torch.cat((pred, self.projection(out)), dim=1)\n",
        "            inp = out\n",
        "\n",
        "        return pred\n"
      ]
    },
    {
      "cell_type": "code",
      "execution_count": 40,
      "metadata": {
        "colab": {
          "base_uri": "https://localhost:8080/"
        },
        "id": "kB31GBctjzLV",
        "outputId": "984eaaf7-c49a-4621-9cc4-a766d5d9d5cc"
      },
      "outputs": [
        {
          "data": {
            "text/plain": [
              "Translator(\n",
              "  (embedding): Embedding(14166, 300)\n",
              "  (lstm_enc): LSTM(300, 300, batch_first=True)\n",
              "  (lstm_dec): LSTM(300, 300, batch_first=True)\n",
              "  (projection): Sequential(\n",
              "    (0): Dropout(p=0.1, inplace=False)\n",
              "    (1): Linear(in_features=300, out_features=27914, bias=True)\n",
              "  )\n",
              ")"
            ]
          },
          "execution_count": 40,
          "metadata": {},
          "output_type": "execute_result"
        }
      ],
      "source": [
        "model = Translator(len(train_dataset.vocab_X), len(train_dataset.vocab_Y), train_dataset.MAX_LENGTH_out+2, train_dataset.word2idx_Y['<s>'])\n",
        "\n",
        "model.to(model.device)\n"
      ]
    },
    {
      "cell_type": "code",
      "execution_count": 41,
      "metadata": {
        "colab": {
          "base_uri": "https://localhost:8080/"
        },
        "id": "pbcvH3mPjzLW",
        "outputId": "65578024-380b-4831-fd3c-b0dabfd01c94"
      },
      "outputs": [
        {
          "data": {
            "text/plain": [
              "torch.Size([150, 51, 27914])"
            ]
          },
          "execution_count": 41,
          "metadata": {},
          "output_type": "execute_result"
        }
      ],
      "source": [
        "model(next(iter(train_dataloader))[0].to(model.device)).size()"
      ]
    },
    {
      "cell_type": "code",
      "execution_count": 44,
      "metadata": {
        "colab": {
          "base_uri": "https://localhost:8080/"
        },
        "id": "tT1kb70XjzLW",
        "outputId": "12f9ffd7-fcd0-4859-ba34-b313fcb8722d"
      },
      "outputs": [
        {
          "name": "stderr",
          "output_type": "stream",
          "text": [
            "100%|██████████| 684/684 [08:50<00:00,  1.29it/s]\n"
          ]
        },
        {
          "name": "stdout",
          "output_type": "stream",
          "text": [
            "Epoch 1/2, Loss: 0.8770264389744976\n"
          ]
        },
        {
          "name": "stderr",
          "output_type": "stream",
          "text": [
            "100%|██████████| 684/684 [08:56<00:00,  1.27it/s]"
          ]
        },
        {
          "name": "stdout",
          "output_type": "stream",
          "text": [
            "Epoch 2/2, Loss: 0.8042848033514637\n"
          ]
        },
        {
          "name": "stderr",
          "output_type": "stream",
          "text": [
            "\n"
          ]
        }
      ],
      "source": [
        "import torch.optim as optim\n",
        "\n",
        "# Define the optimizer and loss function\n",
        "optimizer = optim.AdamW(model.parameters())\n",
        "criterion = nn.CrossEntropyLoss()\n",
        "\n",
        "# Set the number of epochs\n",
        "num_epochs = 2\n",
        "\n",
        "# Training loop\n",
        "for epoch in range(num_epochs):\n",
        "    running_loss = 0.0\n",
        "    for inputs, targets in tqdm(train_dataloader):\n",
        "        inputs = inputs.to(model.device)\n",
        "        targets = targets.to(model.device)\n",
        "\n",
        "        # Zero the gradients\n",
        "        optimizer.zero_grad()\n",
        "\n",
        "        # Forward pass\n",
        "        outputs = model(inputs)\n",
        "\n",
        "        outputs = outputs.permute(0, 2, 1)\n",
        "\n",
        "        # Compute the loss\n",
        "        loss = criterion(outputs, targets)\n",
        "\n",
        "        # Backward pass\n",
        "        loss.backward()\n",
        "\n",
        "        # Update the weights\n",
        "        optimizer.step()\n",
        "\n",
        "        # Update the running loss\n",
        "        running_loss += loss.item()\n",
        "\n",
        "    # Print the average loss for the epoch\n",
        "    print(f\"Epoch {epoch+1}/{num_epochs}, Loss: {running_loss/len(train_dataloader)}\")\n"
      ]
    },
    {
      "cell_type": "code",
      "execution_count": 71,
      "metadata": {
        "id": "PW7Ih5u8jzLW"
      },
      "outputs": [],
      "source": [
        "def compute_metrics(model, dataloader):\n",
        "    model.eval()\n",
        "    model.target_len = dataloader.dataset.MAX_LENGTH_out+2\n",
        "    special_tokens = ['<s>', '</s>', '<PAD>', '<UNK>']\n",
        "    metrics = {\"bleu1\": 0, \"bleu2\": 0, \"bleu3\": 0, \"bleu4\": 0, \"meteor\": 0}\n",
        "    word2idx_Y_inv = {idx: word for word, idx in dataloader.dataset.word2idx_Y.items()}\n",
        "    counter = 0\n",
        "    for inputs, targets in tqdm(dataloader):\n",
        "        with torch.no_grad():\n",
        "            batch_size = inputs.size(0)\n",
        "            inputs = inputs.to(model.device)\n",
        "            outputs = model(inputs)\n",
        "            outputs = outputs.max(2)[1]\n",
        "\n",
        "            outputs = outputs.cpu().numpy()\n",
        "            targets = targets.cpu().numpy()\n",
        "\n",
        "            for i in range(batch_size):\n",
        "                outputs_i = outputs[i]\n",
        "                targets_i = targets[i]\n",
        "\n",
        "                outputs_i = [word2idx_Y_inv[idx] for idx in outputs_i]\n",
        "                targets_i = [word2idx_Y_inv[idx] for idx in targets_i]\n",
        "\n",
        "                outputs_i = [word for word in outputs_i if word not in special_tokens]\n",
        "                targets_i = [word for word in targets_i if word not in special_tokens]\n",
        "\n",
        "                targets_i = ' '.join(targets_i)\n",
        "                outputs_i = ' '.join(outputs_i)\n",
        "\n",
        "\n",
        "                metrics[\"bleu1\"] += nltk.translate.bleu_score.sentence_bleu([targets_i], outputs_i, weights=(1, 0, 0, 0))\n",
        "                metrics[\"bleu2\"] += nltk.translate.bleu_score.sentence_bleu([targets_i], outputs_i, weights=(0, 1, 0, 0))\n",
        "                metrics[\"bleu3\"] += nltk.translate.bleu_score.sentence_bleu([targets_i], outputs_i, weights=(0, 0, 1, 0))\n",
        "                metrics[\"bleu4\"] += nltk.translate.bleu_score.sentence_bleu([targets_i], outputs_i, weights=(0, 0, 0, 1))\n",
        "                # metrics[\"meteor\"] += nltk.translate.meteor_score.meteor_score(nltk.word_tokenize(targets_i), nltk.word_tokenize(outputs_i)) # No se perque esta fallant\n",
        "\n",
        "                counter += 1\n",
        "\n",
        "    for key in metrics:\n",
        "        metrics[key] /= counter\n",
        "    return metrics"
      ]
    },
    {
      "cell_type": "code",
      "execution_count": 72,
      "metadata": {
        "colab": {
          "base_uri": "https://localhost:8080/"
        },
        "id": "VxW7idexqprE",
        "outputId": "0c02395e-dd82-4beb-a79d-9d5dc53bdb7a"
      },
      "outputs": [
        {
          "name": "stderr",
          "output_type": "stream",
          "text": [
            "\r  0%|          | 0/86 [00:00<?, ?it/s]/usr/local/lib/python3.10/dist-packages/nltk/translate/bleu_score.py:552: UserWarning: \n",
            "The hypothesis contains 0 counts of 2-gram overlaps.\n",
            "Therefore the BLEU score evaluates to 0, independently of\n",
            "how many N-gram overlaps of lower order it contains.\n",
            "Consider using lower n-gram order or use SmoothingFunction()\n",
            "  warnings.warn(_msg)\n",
            "/usr/local/lib/python3.10/dist-packages/nltk/translate/bleu_score.py:552: UserWarning: \n",
            "The hypothesis contains 0 counts of 3-gram overlaps.\n",
            "Therefore the BLEU score evaluates to 0, independently of\n",
            "how many N-gram overlaps of lower order it contains.\n",
            "Consider using lower n-gram order or use SmoothingFunction()\n",
            "  warnings.warn(_msg)\n",
            "/usr/local/lib/python3.10/dist-packages/nltk/translate/bleu_score.py:552: UserWarning: \n",
            "The hypothesis contains 0 counts of 4-gram overlaps.\n",
            "Therefore the BLEU score evaluates to 0, independently of\n",
            "how many N-gram overlaps of lower order it contains.\n",
            "Consider using lower n-gram order or use SmoothingFunction()\n",
            "  warnings.warn(_msg)\n",
            "100%|██████████| 86/86 [00:31<00:00,  2.72it/s]\n"
          ]
        },
        {
          "data": {
            "text/plain": [
              "{'bleu1': 0.2154662556879726,\n",
              " 'bleu2': 0.0994629776335736,\n",
              " 'bleu3': 0.05914867591293268,\n",
              " 'bleu4': 0.034924967506193304,\n",
              " 'meteor': 0.0}"
            ]
          },
          "execution_count": 72,
          "metadata": {},
          "output_type": "execute_result"
        }
      ],
      "source": [
        "compute_metrics(model, test_dataloader)"
      ]
    }
  ],
  "metadata": {
    "accelerator": "GPU",
    "colab": {
      "gpuType": "T4",
      "provenance": []
    },
    "kernelspec": {
      "display_name": "Python 3",
      "name": "python3"
    },
    "language_info": {
      "codemirror_mode": {
        "name": "ipython",
        "version": 3
      },
      "file_extension": ".py",
      "mimetype": "text/x-python",
      "name": "python",
      "nbconvert_exporter": "python",
      "pygments_lexer": "ipython3",
      "version": "3.11.4"
    }
  },
  "nbformat": 4,
  "nbformat_minor": 0
}
