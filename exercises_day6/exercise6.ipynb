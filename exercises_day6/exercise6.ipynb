{
  "cells": [
    {
      "cell_type": "code",
      "execution_count": 4,
      "metadata": {
        "colab": {
          "base_uri": "https://localhost:8080/"
        },
        "id": "Fhpb_e0dkahB",
        "outputId": "011e7a24-5c12-4088-bfea-8e6f03d5d56c"
      },
      "outputs": [],
      "source": [
        "# You will need: \n",
        "# !pip install rouge_score \n",
        "# !pip install evaluate"
      ]
    },
    {
      "cell_type": "code",
      "execution_count": 12,
      "metadata": {
        "id": "_07eBzRhjzLH"
      },
      "outputs": [
        {
          "name": "stderr",
          "output_type": "stream",
          "text": [
            "[nltk_data] Downloading package punkt to\n",
            "[nltk_data]     C:\\Users\\Joan\\AppData\\Roaming\\nltk_data...\n",
            "[nltk_data]   Package punkt is already up-to-date!\n",
            "[nltk_data] Downloading package wordnet to\n",
            "[nltk_data]     C:\\Users\\Joan\\AppData\\Roaming\\nltk_data...\n",
            "[nltk_data]   Package wordnet is already up-to-date!\n",
            "[nltk_data] Downloading package punkt to\n",
            "[nltk_data]     C:\\Users\\Joan\\AppData\\Roaming\\nltk_data...\n",
            "[nltk_data]   Package punkt is already up-to-date!\n",
            "[nltk_data] Downloading package omw-1.4 to\n",
            "[nltk_data]     C:\\Users\\Joan\\AppData\\Roaming\\nltk_data...\n",
            "[nltk_data]   Package omw-1.4 is already up-to-date!\n",
            "Downloading builder script: 100%|██████████| 6.27k/6.27k [00:00<00:00, 681kB/s]\n"
          ]
        },
        {
          "ename": "ImportError",
          "evalue": "To be able to use evaluate-metric/rouge, you need to install the following dependencies['rouge_score', 'absl'] using 'pip install rouge_score # Here to have a nice missing dependency error message early on' for instance'",
          "output_type": "error",
          "traceback": [
            "\u001b[1;31m---------------------------------------------------------------------------\u001b[0m",
            "\u001b[1;31mImportError\u001b[0m                               Traceback (most recent call last)",
            "Cell \u001b[1;32mIn[12], line 18\u001b[0m\n\u001b[0;32m     16\u001b[0m nltk\u001b[38;5;241m.\u001b[39mdownload(\u001b[38;5;124m\"\u001b[39m\u001b[38;5;124mpunkt\u001b[39m\u001b[38;5;124m\"\u001b[39m)\n\u001b[0;32m     17\u001b[0m meteor \u001b[38;5;241m=\u001b[39m evaluate\u001b[38;5;241m.\u001b[39mload(\u001b[38;5;124m'\u001b[39m\u001b[38;5;124mmeteor\u001b[39m\u001b[38;5;124m'\u001b[39m)\n\u001b[1;32m---> 18\u001b[0m rouge \u001b[38;5;241m=\u001b[39m \u001b[43mevaluate\u001b[49m\u001b[38;5;241;43m.\u001b[39;49m\u001b[43mload\u001b[49m\u001b[43m(\u001b[49m\u001b[38;5;124;43m'\u001b[39;49m\u001b[38;5;124;43mrouge\u001b[39;49m\u001b[38;5;124;43m'\u001b[39;49m\u001b[43m)\u001b[49m\n",
            "File \u001b[1;32mc:\\Users\\Joan\\anaconda3\\envs\\nlp\\Lib\\site-packages\\evaluate\\loading.py:748\u001b[0m, in \u001b[0;36mload\u001b[1;34m(path, config_name, module_type, process_id, num_process, cache_dir, experiment_id, keep_in_memory, download_config, download_mode, revision, **init_kwargs)\u001b[0m\n\u001b[0;32m    703\u001b[0m \u001b[38;5;250m\u001b[39m\u001b[38;5;124;03m\"\"\"Load a [`~evaluate.EvaluationModule`].\u001b[39;00m\n\u001b[0;32m    704\u001b[0m \n\u001b[0;32m    705\u001b[0m \u001b[38;5;124;03mArgs:\u001b[39;00m\n\u001b[1;32m   (...)\u001b[0m\n\u001b[0;32m    745\u001b[0m \u001b[38;5;124;03m    ```\u001b[39;00m\n\u001b[0;32m    746\u001b[0m \u001b[38;5;124;03m\"\"\"\u001b[39;00m\n\u001b[0;32m    747\u001b[0m download_mode \u001b[38;5;241m=\u001b[39m DownloadMode(download_mode \u001b[38;5;129;01mor\u001b[39;00m DownloadMode\u001b[38;5;241m.\u001b[39mREUSE_DATASET_IF_EXISTS)\n\u001b[1;32m--> 748\u001b[0m evaluation_module \u001b[38;5;241m=\u001b[39m \u001b[43mevaluation_module_factory\u001b[49m\u001b[43m(\u001b[49m\n\u001b[0;32m    749\u001b[0m \u001b[43m    \u001b[49m\u001b[43mpath\u001b[49m\u001b[43m,\u001b[49m\u001b[43m \u001b[49m\u001b[43mmodule_type\u001b[49m\u001b[38;5;241;43m=\u001b[39;49m\u001b[43mmodule_type\u001b[49m\u001b[43m,\u001b[49m\u001b[43m \u001b[49m\u001b[43mrevision\u001b[49m\u001b[38;5;241;43m=\u001b[39;49m\u001b[43mrevision\u001b[49m\u001b[43m,\u001b[49m\u001b[43m \u001b[49m\u001b[43mdownload_config\u001b[49m\u001b[38;5;241;43m=\u001b[39;49m\u001b[43mdownload_config\u001b[49m\u001b[43m,\u001b[49m\u001b[43m \u001b[49m\u001b[43mdownload_mode\u001b[49m\u001b[38;5;241;43m=\u001b[39;49m\u001b[43mdownload_mode\u001b[49m\n\u001b[0;32m    750\u001b[0m \u001b[43m\u001b[49m\u001b[43m)\u001b[49m\n\u001b[0;32m    751\u001b[0m evaluation_cls \u001b[38;5;241m=\u001b[39m import_main_class(evaluation_module\u001b[38;5;241m.\u001b[39mmodule_path)\n\u001b[0;32m    752\u001b[0m evaluation_instance \u001b[38;5;241m=\u001b[39m evaluation_cls(\n\u001b[0;32m    753\u001b[0m     config_name\u001b[38;5;241m=\u001b[39mconfig_name,\n\u001b[0;32m    754\u001b[0m     process_id\u001b[38;5;241m=\u001b[39mprocess_id,\n\u001b[1;32m   (...)\u001b[0m\n\u001b[0;32m    760\u001b[0m     \u001b[38;5;241m*\u001b[39m\u001b[38;5;241m*\u001b[39minit_kwargs,\n\u001b[0;32m    761\u001b[0m )\n",
            "File \u001b[1;32mc:\\Users\\Joan\\anaconda3\\envs\\nlp\\Lib\\site-packages\\evaluate\\loading.py:680\u001b[0m, in \u001b[0;36mevaluation_module_factory\u001b[1;34m(path, module_type, revision, download_config, download_mode, force_local_path, dynamic_modules_path, **download_kwargs)\u001b[0m\n\u001b[0;32m    678\u001b[0m                 \u001b[38;5;28;01mpass\u001b[39;00m\n\u001b[0;32m    679\u001b[0m         \u001b[38;5;28;01mif\u001b[39;00m \u001b[38;5;129;01mnot\u001b[39;00m \u001b[38;5;28misinstance\u001b[39m(e1, (\u001b[38;5;167;01mConnectionError\u001b[39;00m, \u001b[38;5;167;01mFileNotFoundError\u001b[39;00m)):\n\u001b[1;32m--> 680\u001b[0m             \u001b[38;5;28;01mraise\u001b[39;00m e1 \u001b[38;5;28;01mfrom\u001b[39;00m \u001b[38;5;28;01mNone\u001b[39;00m\n\u001b[0;32m    681\u001b[0m         \u001b[38;5;28;01mraise\u001b[39;00m \u001b[38;5;167;01mFileNotFoundError\u001b[39;00m(\n\u001b[0;32m    682\u001b[0m             \u001b[38;5;124mf\u001b[39m\u001b[38;5;124m\"\u001b[39m\u001b[38;5;124mCouldn\u001b[39m\u001b[38;5;124m'\u001b[39m\u001b[38;5;124mt find a module script at \u001b[39m\u001b[38;5;132;01m{\u001b[39;00mrelative_to_absolute_path(combined_path)\u001b[38;5;132;01m}\u001b[39;00m\u001b[38;5;124m. \u001b[39m\u001b[38;5;124m\"\u001b[39m\n\u001b[0;32m    683\u001b[0m             \u001b[38;5;124mf\u001b[39m\u001b[38;5;124m\"\u001b[39m\u001b[38;5;124mModule \u001b[39m\u001b[38;5;124m'\u001b[39m\u001b[38;5;132;01m{\u001b[39;00mpath\u001b[38;5;132;01m}\u001b[39;00m\u001b[38;5;124m'\u001b[39m\u001b[38;5;124m doesn\u001b[39m\u001b[38;5;124m'\u001b[39m\u001b[38;5;124mt exist on the Hugging Face Hub either.\u001b[39m\u001b[38;5;124m\"\u001b[39m\n\u001b[0;32m    684\u001b[0m         ) \u001b[38;5;28;01mfrom\u001b[39;00m \u001b[38;5;28;01mNone\u001b[39;00m\n\u001b[0;32m    685\u001b[0m \u001b[38;5;28;01melse\u001b[39;00m:\n",
            "File \u001b[1;32mc:\\Users\\Joan\\anaconda3\\envs\\nlp\\Lib\\site-packages\\evaluate\\loading.py:639\u001b[0m, in \u001b[0;36mevaluation_module_factory\u001b[1;34m(path, module_type, revision, download_config, download_mode, force_local_path, dynamic_modules_path, **download_kwargs)\u001b[0m\n\u001b[0;32m    631\u001b[0m \u001b[38;5;28;01mfor\u001b[39;00m current_type \u001b[38;5;129;01min\u001b[39;00m [\u001b[38;5;124m\"\u001b[39m\u001b[38;5;124mmetric\u001b[39m\u001b[38;5;124m\"\u001b[39m, \u001b[38;5;124m\"\u001b[39m\u001b[38;5;124mcomparison\u001b[39m\u001b[38;5;124m\"\u001b[39m, \u001b[38;5;124m\"\u001b[39m\u001b[38;5;124mmeasurement\u001b[39m\u001b[38;5;124m\"\u001b[39m]:\n\u001b[0;32m    632\u001b[0m     \u001b[38;5;28;01mtry\u001b[39;00m:\n\u001b[0;32m    633\u001b[0m         \u001b[38;5;28;01mreturn\u001b[39;00m \u001b[43mHubEvaluationModuleFactory\u001b[49m\u001b[43m(\u001b[49m\n\u001b[0;32m    634\u001b[0m \u001b[43m            \u001b[49m\u001b[38;5;124;43mf\u001b[39;49m\u001b[38;5;124;43m\"\u001b[39;49m\u001b[38;5;124;43mevaluate-\u001b[39;49m\u001b[38;5;132;43;01m{\u001b[39;49;00m\u001b[43mcurrent_type\u001b[49m\u001b[38;5;132;43;01m}\u001b[39;49;00m\u001b[38;5;124;43m/\u001b[39;49m\u001b[38;5;132;43;01m{\u001b[39;49;00m\u001b[43mpath\u001b[49m\u001b[38;5;132;43;01m}\u001b[39;49;00m\u001b[38;5;124;43m\"\u001b[39;49m\u001b[43m,\u001b[49m\n\u001b[0;32m    635\u001b[0m \u001b[43m            \u001b[49m\u001b[43mrevision\u001b[49m\u001b[38;5;241;43m=\u001b[39;49m\u001b[43mrevision\u001b[49m\u001b[43m,\u001b[49m\n\u001b[0;32m    636\u001b[0m \u001b[43m            \u001b[49m\u001b[43mdownload_config\u001b[49m\u001b[38;5;241;43m=\u001b[39;49m\u001b[43mdownload_config\u001b[49m\u001b[43m,\u001b[49m\n\u001b[0;32m    637\u001b[0m \u001b[43m            \u001b[49m\u001b[43mdownload_mode\u001b[49m\u001b[38;5;241;43m=\u001b[39;49m\u001b[43mdownload_mode\u001b[49m\u001b[43m,\u001b[49m\n\u001b[0;32m    638\u001b[0m \u001b[43m            \u001b[49m\u001b[43mdynamic_modules_path\u001b[49m\u001b[38;5;241;43m=\u001b[39;49m\u001b[43mdynamic_modules_path\u001b[49m\u001b[43m,\u001b[49m\n\u001b[1;32m--> 639\u001b[0m \u001b[43m        \u001b[49m\u001b[43m)\u001b[49m\u001b[38;5;241;43m.\u001b[39;49m\u001b[43mget_module\u001b[49m\u001b[43m(\u001b[49m\u001b[43m)\u001b[49m\n\u001b[0;32m    640\u001b[0m     \u001b[38;5;28;01mexcept\u001b[39;00m \u001b[38;5;167;01mConnectionError\u001b[39;00m:\n\u001b[0;32m    641\u001b[0m         \u001b[38;5;28;01mpass\u001b[39;00m\n",
            "File \u001b[1;32mc:\\Users\\Joan\\anaconda3\\envs\\nlp\\Lib\\site-packages\\evaluate\\loading.py:489\u001b[0m, in \u001b[0;36mHubEvaluationModuleFactory.get_module\u001b[1;34m(self)\u001b[0m\n\u001b[0;32m    486\u001b[0m         \u001b[38;5;28;01mraise\u001b[39;00m err\n\u001b[0;32m    488\u001b[0m imports \u001b[38;5;241m=\u001b[39m get_imports(local_path)\n\u001b[1;32m--> 489\u001b[0m local_imports \u001b[38;5;241m=\u001b[39m \u001b[43m_download_additional_modules\u001b[49m\u001b[43m(\u001b[49m\n\u001b[0;32m    490\u001b[0m \u001b[43m    \u001b[49m\u001b[43mname\u001b[49m\u001b[38;5;241;43m=\u001b[39;49m\u001b[38;5;28;43mself\u001b[39;49m\u001b[38;5;241;43m.\u001b[39;49m\u001b[43mname\u001b[49m\u001b[43m,\u001b[49m\n\u001b[0;32m    491\u001b[0m \u001b[43m    \u001b[49m\u001b[43mbase_path\u001b[49m\u001b[38;5;241;43m=\u001b[39;49m\u001b[43mhf_hub_url\u001b[49m\u001b[43m(\u001b[49m\u001b[43mpath\u001b[49m\u001b[38;5;241;43m=\u001b[39;49m\u001b[38;5;28;43mself\u001b[39;49m\u001b[38;5;241;43m.\u001b[39;49m\u001b[43mname\u001b[49m\u001b[43m,\u001b[49m\u001b[43m \u001b[49m\u001b[43mname\u001b[49m\u001b[38;5;241;43m=\u001b[39;49m\u001b[38;5;124;43m\"\u001b[39;49m\u001b[38;5;124;43m\"\u001b[39;49m\u001b[43m,\u001b[49m\u001b[43m \u001b[49m\u001b[43mrevision\u001b[49m\u001b[38;5;241;43m=\u001b[39;49m\u001b[43mrevision\u001b[49m\u001b[43m)\u001b[49m\u001b[43m,\u001b[49m\n\u001b[0;32m    492\u001b[0m \u001b[43m    \u001b[49m\u001b[43mimports\u001b[49m\u001b[38;5;241;43m=\u001b[39;49m\u001b[43mimports\u001b[49m\u001b[43m,\u001b[49m\n\u001b[0;32m    493\u001b[0m \u001b[43m    \u001b[49m\u001b[43mdownload_config\u001b[49m\u001b[38;5;241;43m=\u001b[39;49m\u001b[38;5;28;43mself\u001b[39;49m\u001b[38;5;241;43m.\u001b[39;49m\u001b[43mdownload_config\u001b[49m\u001b[43m,\u001b[49m\n\u001b[0;32m    494\u001b[0m \u001b[43m\u001b[49m\u001b[43m)\u001b[49m\n\u001b[0;32m    495\u001b[0m \u001b[38;5;66;03m# copy the script and the files in an importable directory\u001b[39;00m\n\u001b[0;32m    496\u001b[0m dynamic_modules_path \u001b[38;5;241m=\u001b[39m \u001b[38;5;28mself\u001b[39m\u001b[38;5;241m.\u001b[39mdynamic_modules_path \u001b[38;5;28;01mif\u001b[39;00m \u001b[38;5;28mself\u001b[39m\u001b[38;5;241m.\u001b[39mdynamic_modules_path \u001b[38;5;28;01melse\u001b[39;00m init_dynamic_modules()\n",
            "File \u001b[1;32mc:\\Users\\Joan\\anaconda3\\envs\\nlp\\Lib\\site-packages\\evaluate\\loading.py:265\u001b[0m, in \u001b[0;36m_download_additional_modules\u001b[1;34m(name, base_path, imports, download_config)\u001b[0m\n\u001b[0;32m    263\u001b[0m         needs_to_be_installed\u001b[38;5;241m.\u001b[39madd((library_import_name, library_import_path))\n\u001b[0;32m    264\u001b[0m \u001b[38;5;28;01mif\u001b[39;00m needs_to_be_installed:\n\u001b[1;32m--> 265\u001b[0m     \u001b[38;5;28;01mraise\u001b[39;00m \u001b[38;5;167;01mImportError\u001b[39;00m(\n\u001b[0;32m    266\u001b[0m         \u001b[38;5;124mf\u001b[39m\u001b[38;5;124m\"\u001b[39m\u001b[38;5;124mTo be able to use \u001b[39m\u001b[38;5;132;01m{\u001b[39;00mname\u001b[38;5;132;01m}\u001b[39;00m\u001b[38;5;124m, you need to install the following dependencies\u001b[39m\u001b[38;5;124m\"\u001b[39m\n\u001b[0;32m    267\u001b[0m         \u001b[38;5;124mf\u001b[39m\u001b[38;5;124m\"\u001b[39m\u001b[38;5;132;01m{\u001b[39;00m[lib_name\u001b[38;5;250m \u001b[39m\u001b[38;5;28;01mfor\u001b[39;00m\u001b[38;5;250m \u001b[39mlib_name,\u001b[38;5;250m \u001b[39mlib_path\u001b[38;5;250m \u001b[39m\u001b[38;5;129;01min\u001b[39;00m\u001b[38;5;250m \u001b[39mneeds_to_be_installed]\u001b[38;5;132;01m}\u001b[39;00m\u001b[38;5;124m using \u001b[39m\u001b[38;5;124m'\u001b[39m\u001b[38;5;124mpip install \u001b[39m\u001b[38;5;124m\"\u001b[39m\n\u001b[0;32m    268\u001b[0m         \u001b[38;5;124mf\u001b[39m\u001b[38;5;124m\"\u001b[39m\u001b[38;5;132;01m{\u001b[39;00m\u001b[38;5;124m'\u001b[39m\u001b[38;5;124m \u001b[39m\u001b[38;5;124m'\u001b[39m\u001b[38;5;241m.\u001b[39mjoin([lib_path\u001b[38;5;250m \u001b[39m\u001b[38;5;28;01mfor\u001b[39;00m\u001b[38;5;250m \u001b[39mlib_name,\u001b[38;5;250m \u001b[39mlib_path\u001b[38;5;250m \u001b[39m\u001b[38;5;129;01min\u001b[39;00m\u001b[38;5;250m \u001b[39mneeds_to_be_installed])\u001b[38;5;132;01m}\u001b[39;00m\u001b[38;5;124m'\u001b[39m\u001b[38;5;124m for instance\u001b[39m\u001b[38;5;124m'\u001b[39m\u001b[38;5;124m\"\u001b[39m\n\u001b[0;32m    269\u001b[0m     )\n\u001b[0;32m    270\u001b[0m \u001b[38;5;28;01mreturn\u001b[39;00m local_imports\n",
            "\u001b[1;31mImportError\u001b[0m: To be able to use evaluate-metric/rouge, you need to install the following dependencies['rouge_score', 'absl'] using 'pip install rouge_score # Here to have a nice missing dependency error message early on' for instance'"
          ]
        }
      ],
      "source": [
        "import torch\n",
        "import torch.nn as nn\n",
        "import torch.nn.functional as F\n",
        "from torch.utils.data import DataLoader, Dataset\n",
        "import torch.optim as optim\n",
        "import evaluate\n",
        "\n",
        "import nltk\n",
        "import string\n",
        "import numpy as np\n",
        "from sklearn.model_selection import train_test_split\n",
        "from tqdm import tqdm\n",
        "import matplotlib.pyplot as plt\n",
        "\n",
        "# Loading some metrics for evaluation\n",
        "nltk.download(\"punkt\")\n",
        "meteor = evaluate.load('meteor')\n",
        "rouge = evaluate.load('rouge')"
      ]
    },
    {
      "cell_type": "code",
      "execution_count": null,
      "metadata": {
        "id": "LrRIoycvjzLJ"
      },
      "outputs": [],
      "source": [
        "# Dataset class\n",
        "class Dataset_Translation(Dataset):\n",
        "    def __init__(self, lines, word2idx_X=None, word2idx_Y=None):\n",
        "        # Puctuation and special characters to remove\n",
        "        punctuation = set(string.punctuation) | set([\"'\", '”', '“', \"’\", \"‘\"])\n",
        "        # Initialize the lists of input and target sentences\n",
        "        self.len = len(lines)\n",
        "        self.X = []\n",
        "        self.Y = []\n",
        "        self.vocab_X = set()\n",
        "        self.vocab_Y = set()\n",
        "        for line in tqdm(lines):\n",
        "            # Split the line into input and target strings\n",
        "            line_splited = line.split('\\t')\n",
        "            # Tokenize the input and target strings\n",
        "            tokenized_texts = [nltk.word_tokenize(sent) for sent in line_splited[:2]]\n",
        "            # Remove punctuation\n",
        "            tokenized_texts = [[word for word in sent if word not in punctuation] for sent in tokenized_texts]\n",
        "            # Append the tokenized input and target strings to the lists\n",
        "            self.X.append(tokenized_texts[0])\n",
        "            self.Y.append(tokenized_texts[1])\n",
        "            # Update the vocabulary with the new words\n",
        "            self.vocab_X.update(tokenized_texts[0])\n",
        "            self.vocab_Y.update(tokenized_texts[1])\n",
        "\n",
        "\n",
        "        # Adding special tokens to the input and target vocabularies\n",
        "        self.vocab_X.add('<s>')\n",
        "        self.vocab_X.add('</s>')\n",
        "        self.vocab_X.add('<PAD>')\n",
        "        self.vocab_X.add('<UNK>')\n",
        "\n",
        "        self.vocab_Y.add('<s>')\n",
        "        self.vocab_Y.add('</s>')\n",
        "        self.vocab_Y.add('<PAD>')\n",
        "        self.vocab_Y.add('<UNK>')\n",
        "\n",
        "        # Create word2idx dictionaries if not provided\n",
        "        if word2idx_X is None:\n",
        "            self.word2idx_X = {word: idx for idx, word in enumerate(sorted(list(self.vocab_X)))}\n",
        "        else:\n",
        "            self.word2idx_X = word2idx_X\n",
        "\n",
        "        if word2idx_Y is None:\n",
        "            self.word2idx_Y = {word: idx for idx, word in enumerate(sorted(list(self.vocab_Y)))}\n",
        "        else:\n",
        "            self.word2idx_Y = word2idx_Y\n",
        "\n",
        "        # Compute the maximum length of input and target sentences\n",
        "        self.MAX_LENGTH_out = max([len(y) for y in self.Y])\n",
        "        self.MAX_LENGTH_in = max([len(x) for x in self.X])\n",
        "\n",
        "        # Add start, end and padding tokens to the input and target sentences\n",
        "        for i in range(len(self.X)):\n",
        "            self.Y[i] = ['<s>'] + self.Y[i] + ['</s>'] + ['<PAD>'] * (self.MAX_LENGTH_out - len(self.Y[i]))\n",
        "            self.X[i] = ['<PAD>'] * (self.MAX_LENGTH_in - len(self.X[i])) + ['<s>'] + self.X[i] + ['</s>']\n",
        "\n",
        "        # Convert the input and target sentences to lists of indices\n",
        "        for i in range(len(self.X)):\n",
        "            self.X[i] = [self.word2idx_X[word] if word in self.word2idx_X else self.word2idx_X['<UNK>'] for word in self.X[i]]\n",
        "            self.Y[i] = [self.word2idx_Y[word] if word in self.word2idx_Y else self.word2idx_Y['<UNK>'] for word in self.Y[i]]\n",
        "\n",
        "        self.X = torch.tensor(self.X)\n",
        "        self.Y = torch.tensor(self.Y)\n",
        "\n",
        "    def __len__(self):\n",
        "        return self.len\n",
        "\n",
        "    def __getitem__(self, idx):\n",
        "        return self.X[idx], self.Y[idx]"
      ]
    },
    {
      "cell_type": "code",
      "execution_count": 14,
      "metadata": {
        "colab": {
          "base_uri": "https://localhost:8080/"
        },
        "id": "YUjHBt5xjzLT",
        "outputId": "2c532750-ca69-44db-832a-bf9731db662c"
      },
      "outputs": [
        {
          "name": "stderr",
          "output_type": "stream",
          "text": [
            "100%|██████████| 102467/102467 [00:23<00:00, 4366.63it/s]\n"
          ]
        }
      ],
      "source": [
        "# Read the data\n",
        "with open('spa.txt', 'r') as f:\n",
        "    lines = f.readlines()\n",
        "\n",
        "# Split the data into train, validation and test sets (80%, 10%, 10%)\n",
        "train_lines, test_lines = train_test_split(lines, test_size=0.2, random_state=42)\n",
        "test_lines, val_lines = train_test_split(test_lines, test_size=0.5, random_state=42)\n",
        "\n",
        "# Create the train dataset\n",
        "train_dataset = Dataset_Translation(train_lines)"
      ]
    },
    {
      "cell_type": "code",
      "execution_count": 111,
      "metadata": {},
      "outputs": [],
      "source": [
        "sentences = sorted([line.split('\\t')[0] for line in lines], key=len, reverse=True)\n"
      ]
    },
    {
      "cell_type": "code",
      "execution_count": 119,
      "metadata": {},
      "outputs": [
        {
          "data": {
            "text/plain": [
              "'The World Health Organization says alcohol abuse is the third leading cause of death and disability in the world.'"
            ]
          },
          "execution_count": 119,
          "metadata": {},
          "output_type": "execute_result"
        }
      ],
      "source": [
        "sentences[100]"
      ]
    },
    {
      "cell_type": "code",
      "execution_count": 15,
      "metadata": {
        "colab": {
          "base_uri": "https://localhost:8080/"
        },
        "id": "L6CupFD6q8Gc",
        "outputId": "f5eef618-cdd4-408b-c70f-2d489a9aba66"
      },
      "outputs": [
        {
          "name": "stderr",
          "output_type": "stream",
          "text": [
            "100%|██████████| 12808/12808 [00:02<00:00, 4508.38it/s]\n",
            "100%|██████████| 12809/12809 [00:02<00:00, 4895.04it/s]\n"
          ]
        }
      ],
      "source": [
        "# Create the validation and test datasets, using the vocabulary of the train dataset\n",
        "test_dataset = Dataset_Translation(test_lines, word2idx_X=train_dataset.word2idx_X, word2idx_Y=train_dataset.word2idx_Y)\n",
        "val_dataset = Dataset_Translation(val_lines, word2idx_X=train_dataset.word2idx_X, word2idx_Y=train_dataset.word2idx_Y)"
      ]
    },
    {
      "cell_type": "code",
      "execution_count": 16,
      "metadata": {
        "id": "IDtuLvdZlRZ-"
      },
      "outputs": [],
      "source": [
        "# Dataloader class\n",
        "train_dataloader = DataLoader(train_dataset, batch_size=50, shuffle=True)\n",
        "test_dataloader = DataLoader(test_dataset, batch_size=50, shuffle=False)\n",
        "val_dataloader = DataLoader(val_dataset, batch_size=50, shuffle=False)"
      ]
    },
    {
      "cell_type": "code",
      "execution_count": 17,
      "metadata": {
        "colab": {
          "base_uri": "https://localhost:8080/"
        },
        "id": "DBd6Ie4RjzLU",
        "outputId": "e19e9c13-186a-43ba-a7a5-7a672db3ae2e"
      },
      "outputs": [
        {
          "name": "stdout",
          "output_type": "stream",
          "text": [
            "English train vocabulary size: 14167\n",
            "Spanish train vocabulary size: 27915\n"
          ]
        }
      ],
      "source": [
        "print(\"English train vocabulary size:\", train_dataset.vocab_X.__len__())\n",
        "print(\"Spanish train vocabulary size:\", train_dataset.vocab_Y.__len__())"
      ]
    },
    {
      "cell_type": "markdown",
      "metadata": {},
      "source": [
        "## LSTM"
      ]
    },
    {
      "cell_type": "code",
      "execution_count": 45,
      "metadata": {
        "id": "3fXc9mSNjzLV"
      },
      "outputs": [],
      "source": [
        "# A version of our model without the attention mechanism\n",
        "class Translator(nn.Module):\n",
        "    def __init__(self, vocab_size_input, vocab_size_target, target_len, hidden_size=300, n_layers=1, dropout=0.1):\n",
        "        super(Translator, self).__init__()\n",
        "        self.device = torch.device('cuda' if torch.cuda.is_available() else 'cpu')\n",
        "        self.hidden_size = hidden_size\n",
        "        self.n_layers = n_layers\n",
        "        self.target_len = target_len\n",
        "\n",
        "        # Initialize the embedding layers\n",
        "        self.embedding = nn.Embedding(vocab_size_input, hidden_size)\n",
        "        self.lstm_enc = nn.LSTM(hidden_size, hidden_size, n_layers, batch_first=True)\n",
        "        self.lstm_dec = nn.LSTM(hidden_size, hidden_size, n_layers, batch_first=True)\n",
        "\n",
        "        # Initialize the projection layer\n",
        "        self.projection = nn.Sequential(\n",
        "            nn.Dropout(dropout),\n",
        "            nn.Linear(hidden_size, vocab_size_target)\n",
        "        )\n",
        "\n",
        "    def forward(self, input):\n",
        "        batch_size = input.size(0)\n",
        "        # Initialize the hidden and cell states\n",
        "        hidden = torch.zeros(self.n_layers, batch_size, self.hidden_size).to(self.device)\n",
        "        cell = torch.zeros(self.n_layers, batch_size, self.hidden_size).to(self.device)\n",
        "\n",
        "        # Embed the input  \n",
        "        embedded = self.embedding(input)\n",
        "        # Pass the embedded input through the encoder\n",
        "        _, (hidden, cell) = self.lstm_enc(embedded, (hidden, cell))\n",
        "\n",
        "        # Initialize the input for the decoder\n",
        "        inp = torch.zeros(batch_size, self.hidden_size).to(self.device).unsqueeze(1)\n",
        "        # Initialize the predictions tensor\n",
        "        pred = self.projection(inp)\n",
        "        for i in range(self.target_len - 1): # rm <SOS>\n",
        "            # Pass the input through the decoder\n",
        "            out, (hidden, cell) = self.lstm_dec(inp, (hidden, cell))\n",
        "\n",
        "            # Project the output of the decoder and save it in the predictions tensor\n",
        "            pred = torch.cat((pred, self.projection(out)), dim=1)\n",
        "            # Update the input of the decoder\n",
        "            inp = out\n",
        "\n",
        "        return pred\n"
      ]
    },
    {
      "cell_type": "code",
      "execution_count": 46,
      "metadata": {
        "colab": {
          "base_uri": "https://localhost:8080/"
        },
        "id": "kB31GBctjzLV",
        "outputId": "9400384d-554e-47d7-daf0-8ff38f31d9d1"
      },
      "outputs": [
        {
          "data": {
            "text/plain": [
              "Translator(\n",
              "  (embedding): Embedding(14167, 300)\n",
              "  (lstm_enc): LSTM(300, 300, batch_first=True)\n",
              "  (lstm_dec): LSTM(300, 300, batch_first=True)\n",
              "  (projection): Sequential(\n",
              "    (0): Dropout(p=0.1, inplace=False)\n",
              "    (1): Linear(in_features=300, out_features=27915, bias=True)\n",
              "  )\n",
              ")"
            ]
          },
          "execution_count": 46,
          "metadata": {},
          "output_type": "execute_result"
        }
      ],
      "source": [
        "# Initialize the model\n",
        "model = Translator(len(train_dataset.vocab_X), len(train_dataset.vocab_Y), train_dataset.MAX_LENGTH_out+2)\n",
        "model.to(model.device)"
      ]
    },
    {
      "cell_type": "code",
      "execution_count": 47,
      "metadata": {},
      "outputs": [],
      "source": [
        "def compute_metrics(model, dataloader):\n",
        "    model.eval()\n",
        "    # Set the target length of the model to the maximum length of the target sentences\n",
        "    model.target_len = dataloader.dataset.MAX_LENGTH_out + 2 # +2 for <s> and </s>\n",
        "\n",
        "    special_tokens = {'<s>', '</s>', '<PAD>', '<UNK>'}\n",
        "    metrics = {\"bleu1\": 0, \"bleu2\": 0, \"bleu3\": 0, \"bleu4\": 0, \"meteor\": 0, 'rouge1': 0, 'rouge2': 0, 'rougeL': 0}\n",
        "    word2idx_Y_inv = np.array([word for word, idx in sorted(dataloader.dataset.word2idx_Y.items(), key=lambda x: x[1])])\n",
        "\n",
        "    counter = 0\n",
        "    predictions, references = [], []\n",
        "    for inputs, targets in tqdm(dataloader):\n",
        "        with torch.no_grad():\n",
        "            # Generate the model translations \n",
        "            inputs = inputs.to(model.device)\n",
        "            outputs = model(inputs)\n",
        "            outputs = outputs.max(2)[1].cpu().numpy()\n",
        "            targets = targets.cpu().numpy()\n",
        "\n",
        "            # Convert indices to words and filter out special tokens\n",
        "            for i in range(inputs.size(0)):\n",
        "                output_words = word2idx_Y_inv[outputs[i]]\n",
        "                target_words = word2idx_Y_inv[targets[i]]\n",
        "\n",
        "                output_sentence = ' '.join([word for word in output_words if word not in special_tokens])\n",
        "                target_sentence = ' '.join([word for word in target_words if word not in special_tokens])\n",
        "\n",
        "                predictions.append(output_sentence)\n",
        "                references.append(target_sentence)\n",
        "\n",
        "                counter += 1\n",
        "\n",
        "    # Compute metrics\n",
        "    metrics[\"bleu1\"] = np.mean([nltk.translate.bleu_score.sentence_bleu([ref], pred, weights=(1, 0, 0, 0)) for pred, ref in zip(predictions, references)])\n",
        "    metrics[\"bleu2\"] = np.mean([nltk.translate.bleu_score.sentence_bleu([ref], pred, weights=(0, 1, 0, 0)) for pred, ref in zip(predictions, references)])\n",
        "    metrics[\"bleu3\"] = np.mean([nltk.translate.bleu_score.sentence_bleu([ref], pred, weights=(0, 0, 1, 0)) for pred, ref in zip(predictions, references)])\n",
        "    metrics[\"bleu4\"] = np.mean([nltk.translate.bleu_score.sentence_bleu([ref], pred, weights=(0, 0, 0, 1)) for pred, ref in zip(predictions, references)])\n",
        "    metrics[\"meteor\"] = np.mean([meteor.compute(predictions=[pred], references=[ref])[\"meteor\"] for pred, ref in zip(predictions, references)])\n",
        "    rouge_scores = rouge.compute(predictions=predictions, references=references)\n",
        "    metrics['rouge1'] = rouge_scores['rouge1']\n",
        "    metrics['rouge2'] = rouge_scores['rouge2']\n",
        "    metrics['rougeL'] = rouge_scores['rougeL']\n",
        "\n",
        "\n",
        "    return metrics\n"
      ]
    },
    {
      "cell_type": "code",
      "execution_count": 53,
      "metadata": {},
      "outputs": [],
      "source": [
        "# Training loop\n",
        "def train(model, optimizer, criterion, train_dataloader, num_epochs = 10):\n",
        "    best_val_meteor = 0\n",
        "    loss_hist = []\n",
        "    metrics_hist = []\n",
        "    for epoch in range(num_epochs):\n",
        "        running_loss = 0.0\n",
        "        model.train()\n",
        "        model.target_len = train_dataloader.dataset.MAX_LENGTH_out+2\n",
        "        for inputs, targets in tqdm(train_dataloader):\n",
        "            inputs = inputs.to(model.device)\n",
        "            targets = targets.to(model.device)\n",
        "            # Zero the gradients\n",
        "            optimizer.zero_grad()\n",
        "            # Forward pass\n",
        "            outputs = model(inputs)\n",
        "            outputs = outputs.permute(0, 2, 1)\n",
        "            # Compute the loss\n",
        "            loss = criterion(outputs, targets)\n",
        "            # Backward pass\n",
        "            loss.backward()\n",
        "            # Update the weights\n",
        "            optimizer.step()\n",
        "\n",
        "            # Update the running loss\n",
        "            running_loss += loss.item()\n",
        "\n",
        "        # Print the average loss for the epoch\n",
        "        print(f\"Epoch {epoch+1}/{num_epochs}, Loss: {running_loss/len(train_dataloader)}\")\n",
        "        loss_hist.append(running_loss/len(train_dataloader))\n",
        "\n",
        "        # Evaluate on validation set\n",
        "        metrics = compute_metrics(model, val_dataloader)\n",
        "        print(\"Validation metrics:\", metrics)\n",
        "        metrics_hist.append(metrics)\n",
        "\n",
        "        # Save the model if the METEOR score on the validation set is the best\n",
        "        if metrics[\"meteor\"] > best_val_meteor:\n",
        "            torch.save(model.state_dict(), f'{model._get_name()}_model_{epoch + 1}.pth')\n",
        "    \n",
        "    \n",
        "    # Obtaining a list of all the validation metrics for each epoch\n",
        "    results_complete = {key: [] for key in metrics_hist[0].keys()}\n",
        "    for metrics in metrics_hist:\n",
        "        for key in metrics:\n",
        "            results_complete[key].append(metrics[key])\n",
        "    return results_complete, loss_hist\n"
      ]
    },
    {
      "cell_type": "code",
      "execution_count": 54,
      "metadata": {},
      "outputs": [
        {
          "name": "stderr",
          "output_type": "stream",
          "text": [
            "100%|██████████| 2050/2050 [06:03<00:00,  5.64it/s]\n"
          ]
        },
        {
          "name": "stdout",
          "output_type": "stream",
          "text": [
            "Epoch 1/13, Loss: 0.6294520398465598\n"
          ]
        },
        {
          "name": "stderr",
          "output_type": "stream",
          "text": [
            "100%|██████████| 257/257 [00:07<00:00, 33.58it/s]\n",
            "/home/nbiescas/miniconda3/envs/doc2graph/lib/python3.9/site-packages/nltk/translate/bleu_score.py:552: UserWarning: \n",
            "The hypothesis contains 0 counts of 3-gram overlaps.\n",
            "Therefore the BLEU score evaluates to 0, independently of\n",
            "how many N-gram overlaps of lower order it contains.\n",
            "Consider using lower n-gram order or use SmoothingFunction()\n",
            "  warnings.warn(_msg)\n",
            "/home/nbiescas/miniconda3/envs/doc2graph/lib/python3.9/site-packages/nltk/translate/bleu_score.py:552: UserWarning: \n",
            "The hypothesis contains 0 counts of 4-gram overlaps.\n",
            "Therefore the BLEU score evaluates to 0, independently of\n",
            "how many N-gram overlaps of lower order it contains.\n",
            "Consider using lower n-gram order or use SmoothingFunction()\n",
            "  warnings.warn(_msg)\n",
            "/home/nbiescas/miniconda3/envs/doc2graph/lib/python3.9/site-packages/nltk/translate/bleu_score.py:552: UserWarning: \n",
            "The hypothesis contains 0 counts of 2-gram overlaps.\n",
            "Therefore the BLEU score evaluates to 0, independently of\n",
            "how many N-gram overlaps of lower order it contains.\n",
            "Consider using lower n-gram order or use SmoothingFunction()\n",
            "  warnings.warn(_msg)\n"
          ]
        },
        {
          "name": "stdout",
          "output_type": "stream",
          "text": [
            "Validation metrics: {'bleu1': 0.5198775738946423, 'bleu2': 0.38398784662641905, 'bleu3': 0.3183887621757386, 'bleu4': 0.269313771041003, 'meteor': 0.3068318697481678, 'rouge1': 0.44494226665188147, 'rouge2': 0.19543182892160182, 'rougeL': 0.43378266538514865}\n"
          ]
        },
        {
          "name": "stderr",
          "output_type": "stream",
          "text": [
            "100%|██████████| 2050/2050 [05:54<00:00,  5.79it/s]\n"
          ]
        },
        {
          "name": "stdout",
          "output_type": "stream",
          "text": [
            "Epoch 2/13, Loss: 0.5063017644678675\n"
          ]
        },
        {
          "name": "stderr",
          "output_type": "stream",
          "text": [
            "100%|██████████| 257/257 [00:07<00:00, 32.95it/s]\n"
          ]
        },
        {
          "name": "stdout",
          "output_type": "stream",
          "text": [
            "Validation metrics: {'bleu1': 0.566486631541436, 'bleu2': 0.4312770917735179, 'bleu3': 0.3641501076216382, 'bleu4': 0.3139045220097554, 'meteor': 0.34356527078667165, 'rouge1': 0.4772756198606837, 'rouge2': 0.22714526555429576, 'rougeL': 0.4654832016651298}\n"
          ]
        },
        {
          "name": "stderr",
          "output_type": "stream",
          "text": [
            "100%|██████████| 2050/2050 [05:23<00:00,  6.33it/s]\n"
          ]
        },
        {
          "name": "stdout",
          "output_type": "stream",
          "text": [
            "Epoch 3/13, Loss: 0.41959428465947873\n"
          ]
        },
        {
          "name": "stderr",
          "output_type": "stream",
          "text": [
            "100%|██████████| 257/257 [00:06<00:00, 37.13it/s]\n"
          ]
        },
        {
          "name": "stdout",
          "output_type": "stream",
          "text": [
            "Validation metrics: {'bleu1': 0.5941024045674617, 'bleu2': 0.45992096396695015, 'bleu3': 0.3930657751085492, 'bleu4': 0.34220115785323185, 'meteor': 0.3666318908692957, 'rouge1': 0.49710982696451517, 'rouge2': 0.24682712749318583, 'rougeL': 0.48573237946947945}\n"
          ]
        },
        {
          "name": "stderr",
          "output_type": "stream",
          "text": [
            "100%|██████████| 2050/2050 [05:42<00:00,  5.99it/s]\n"
          ]
        },
        {
          "name": "stdout",
          "output_type": "stream",
          "text": [
            "Epoch 4/13, Loss: 0.36343770092580374\n"
          ]
        },
        {
          "name": "stderr",
          "output_type": "stream",
          "text": [
            "100%|██████████| 257/257 [00:08<00:00, 31.87it/s]\n"
          ]
        },
        {
          "name": "stdout",
          "output_type": "stream",
          "text": [
            "Validation metrics: {'bleu1': 0.6098759159270538, 'bleu2': 0.47485948174705606, 'bleu3': 0.4065081264446499, 'bleu4': 0.35474185849215084, 'meteor': 0.3748608146856574, 'rouge1': 0.5051263795852414, 'rouge2': 0.2546147817372945, 'rougeL': 0.49254297531779223}\n"
          ]
        },
        {
          "name": "stderr",
          "output_type": "stream",
          "text": [
            "100%|██████████| 2050/2050 [05:52<00:00,  5.82it/s]\n"
          ]
        },
        {
          "name": "stdout",
          "output_type": "stream",
          "text": [
            "Epoch 5/13, Loss: 0.32630016458470645\n"
          ]
        },
        {
          "name": "stderr",
          "output_type": "stream",
          "text": [
            "100%|██████████| 257/257 [00:07<00:00, 34.69it/s]\n"
          ]
        },
        {
          "name": "stdout",
          "output_type": "stream",
          "text": [
            "Validation metrics: {'bleu1': 0.6230333984701103, 'bleu2': 0.4885205110867562, 'bleu3': 0.4201897255134028, 'bleu4': 0.3681502858653555, 'meteor': 0.3888019332876976, 'rouge1': 0.514686867791697, 'rouge2': 0.266522539488502, 'rougeL': 0.5020434290737708}\n"
          ]
        },
        {
          "name": "stderr",
          "output_type": "stream",
          "text": [
            "100%|██████████| 2050/2050 [06:02<00:00,  5.66it/s]\n"
          ]
        },
        {
          "name": "stdout",
          "output_type": "stream",
          "text": [
            "Epoch 6/13, Loss: 0.3023413184067098\n"
          ]
        },
        {
          "name": "stderr",
          "output_type": "stream",
          "text": [
            "100%|██████████| 257/257 [00:07<00:00, 32.58it/s]\n"
          ]
        },
        {
          "name": "stdout",
          "output_type": "stream",
          "text": [
            "Validation metrics: {'bleu1': 0.6278888556953695, 'bleu2': 0.4952922389727373, 'bleu3': 0.42696064007978085, 'bleu4': 0.37494760815635725, 'meteor': 0.3946913925061575, 'rouge1': 0.5209704286395376, 'rouge2': 0.2720218707665584, 'rougeL': 0.5080298260160239}\n"
          ]
        },
        {
          "name": "stderr",
          "output_type": "stream",
          "text": [
            "100%|██████████| 2050/2050 [05:58<00:00,  5.72it/s]\n"
          ]
        },
        {
          "name": "stdout",
          "output_type": "stream",
          "text": [
            "Epoch 7/13, Loss: 0.28234754689582964\n"
          ]
        },
        {
          "name": "stderr",
          "output_type": "stream",
          "text": [
            "100%|██████████| 257/257 [00:08<00:00, 31.51it/s]\n"
          ]
        },
        {
          "name": "stdout",
          "output_type": "stream",
          "text": [
            "Validation metrics: {'bleu1': 0.6332364669958649, 'bleu2': 0.49972058705798683, 'bleu3': 0.4303163596322259, 'bleu4': 0.3775966246642441, 'meteor': 0.3974806574391909, 'rouge1': 0.5223978007055887, 'rouge2': 0.27259308488769973, 'rougeL': 0.5097145776238372}\n"
          ]
        },
        {
          "name": "stderr",
          "output_type": "stream",
          "text": [
            "100%|██████████| 2050/2050 [05:55<00:00,  5.76it/s]\n"
          ]
        },
        {
          "name": "stdout",
          "output_type": "stream",
          "text": [
            "Epoch 8/13, Loss: 0.26853064159794554\n"
          ]
        },
        {
          "name": "stderr",
          "output_type": "stream",
          "text": [
            "100%|██████████| 257/257 [00:08<00:00, 31.70it/s]\n"
          ]
        },
        {
          "name": "stdout",
          "output_type": "stream",
          "text": [
            "Validation metrics: {'bleu1': 0.6356084850866329, 'bleu2': 0.5031256750093207, 'bleu3': 0.4340566254585708, 'bleu4': 0.38141885895924854, 'meteor': 0.4019190760189295, 'rouge1': 0.5270439028501841, 'rouge2': 0.27766114034670053, 'rougeL': 0.5143205904116335}\n"
          ]
        },
        {
          "name": "stderr",
          "output_type": "stream",
          "text": [
            "100%|██████████| 2050/2050 [06:09<00:00,  5.55it/s]\n"
          ]
        },
        {
          "name": "stdout",
          "output_type": "stream",
          "text": [
            "Epoch 9/13, Loss: 0.25696575411936134\n"
          ]
        },
        {
          "name": "stderr",
          "output_type": "stream",
          "text": [
            "100%|██████████| 257/257 [00:08<00:00, 31.89it/s]\n"
          ]
        },
        {
          "name": "stdout",
          "output_type": "stream",
          "text": [
            "Validation metrics: {'bleu1': 0.6465096780944654, 'bleu2': 0.5114311731421217, 'bleu3': 0.4410746336799445, 'bleu4': 0.3875160675702614, 'meteor': 0.4070282399130739, 'rouge1': 0.5288103445954768, 'rouge2': 0.2798152344106748, 'rougeL': 0.5157241020345353}\n"
          ]
        },
        {
          "name": "stderr",
          "output_type": "stream",
          "text": [
            "100%|██████████| 2050/2050 [06:17<00:00,  5.43it/s]\n"
          ]
        },
        {
          "name": "stdout",
          "output_type": "stream",
          "text": [
            "Epoch 10/13, Loss: 0.24735691807618956\n"
          ]
        },
        {
          "name": "stderr",
          "output_type": "stream",
          "text": [
            "100%|██████████| 257/257 [00:07<00:00, 33.71it/s]\n"
          ]
        },
        {
          "name": "stdout",
          "output_type": "stream",
          "text": [
            "Validation metrics: {'bleu1': 0.6466916618302022, 'bleu2': 0.5117246142453552, 'bleu3': 0.44157808639779816, 'bleu4': 0.38793779556144975, 'meteor': 0.4090295677923547, 'rouge1': 0.5292883677359954, 'rouge2': 0.28125670371090095, 'rougeL': 0.5164814729640361}\n"
          ]
        },
        {
          "name": "stderr",
          "output_type": "stream",
          "text": [
            "100%|██████████| 2050/2050 [05:58<00:00,  5.72it/s]\n"
          ]
        },
        {
          "name": "stdout",
          "output_type": "stream",
          "text": [
            "Epoch 11/13, Loss: 0.23864024205905635\n"
          ]
        },
        {
          "name": "stderr",
          "output_type": "stream",
          "text": [
            "100%|██████████| 257/257 [00:07<00:00, 34.40it/s]\n"
          ]
        },
        {
          "name": "stdout",
          "output_type": "stream",
          "text": [
            "Validation metrics: {'bleu1': 0.6426765994950526, 'bleu2': 0.5119719631919007, 'bleu3': 0.4426347408467473, 'bleu4': 0.389521236154393, 'meteor': 0.4085492967764346, 'rouge1': 0.5333881022652432, 'rouge2': 0.28203265535403776, 'rougeL': 0.52005457509796}\n"
          ]
        },
        {
          "name": "stderr",
          "output_type": "stream",
          "text": [
            "100%|██████████| 2050/2050 [05:53<00:00,  5.79it/s]\n"
          ]
        },
        {
          "name": "stdout",
          "output_type": "stream",
          "text": [
            "Epoch 12/13, Loss: 0.23119974131991225\n"
          ]
        },
        {
          "name": "stderr",
          "output_type": "stream",
          "text": [
            "100%|██████████| 257/257 [00:07<00:00, 33.82it/s]\n"
          ]
        },
        {
          "name": "stdout",
          "output_type": "stream",
          "text": [
            "Validation metrics: {'bleu1': 0.6529990361901978, 'bleu2': 0.5204657160284315, 'bleu3': 0.4506088986137751, 'bleu4': 0.3974296622973706, 'meteor': 0.4179010898594424, 'rouge1': 0.5376645273893992, 'rouge2': 0.28867914581241383, 'rougeL': 0.5243300986463277}\n"
          ]
        },
        {
          "name": "stderr",
          "output_type": "stream",
          "text": [
            "100%|██████████| 2050/2050 [06:05<00:00,  5.61it/s]\n"
          ]
        },
        {
          "name": "stdout",
          "output_type": "stream",
          "text": [
            "Epoch 13/13, Loss: 0.22440206296560242\n"
          ]
        },
        {
          "name": "stderr",
          "output_type": "stream",
          "text": [
            "100%|██████████| 257/257 [00:08<00:00, 30.61it/s]\n"
          ]
        },
        {
          "name": "stdout",
          "output_type": "stream",
          "text": [
            "Validation metrics: {'bleu1': 0.6538718201223206, 'bleu2': 0.5207449773233991, 'bleu3': 0.45069303392408966, 'bleu4': 0.39736027577908856, 'meteor': 0.4180220940316747, 'rouge1': 0.5376240821082683, 'rouge2': 0.2890925709801343, 'rougeL': 0.524363730445417}\n"
          ]
        }
      ],
      "source": [
        "# Define the optimizer and loss function\n",
        "optimizer = optim.AdamW(model.parameters())\n",
        "criterion = nn.CrossEntropyLoss()\n",
        "\n",
        "results_complete, loss_hist = train(model, optimizer, criterion, train_dataloader, num_epochs=13)"
      ]
    },
    {
      "cell_type": "code",
      "execution_count": 55,
      "metadata": {},
      "outputs": [
        {
          "data": {
            "image/png": "[encoded data removed]",
            "text/plain": [
              "<Figure size 2000x1000 with 8 Axes>"
            ]
          },
          "metadata": {},
          "output_type": "display_data"
        }
      ],
      "source": [
        "# Do a subplot for each metric\n",
        "fig, axs = plt.subplots(2, 4, figsize=(20, 10))\n",
        "for i, key in enumerate(results_complete.keys()):\n",
        "    axs[i//4, i%4].plot(results_complete[key])\n",
        "    axs[i//4, i%4].set_title(key)"
      ]
    },
    {
      "cell_type": "code",
      "execution_count": 56,
      "metadata": {},
      "outputs": [
        {
          "data": {
            "image/png": "[encoded data removed]",
            "text/plain": [
              "<Figure size 640x480 with 1 Axes>"
            ]
          },
          "metadata": {},
          "output_type": "display_data"
        }
      ],
      "source": [
        "plt.plot(loss_hist)\n",
        "plt.title('Training loss')\n",
        "plt.xlabel('Epoch')\n",
        "plt.ylabel('Loss')\n",
        "plt.show()"
      ]
    },
    {
      "cell_type": "code",
      "execution_count": 58,
      "metadata": {},
      "outputs": [
        {
          "data": {
            "text/plain": [
              "<All keys matched successfully>"
            ]
          },
          "execution_count": 58,
          "metadata": {},
          "output_type": "execute_result"
        }
      ],
      "source": [
        "# Load the best model\n",
        "model.load_state_dict(torch.load('Translator_model_13.pth'))"
      ]
    },
    {
      "cell_type": "code",
      "execution_count": 59,
      "metadata": {
        "colab": {
          "base_uri": "https://localhost:8080/"
        },
        "id": "VxW7idexqprE",
        "outputId": "bbbe1bb2-c5ce-4673-a9e4-f2b8702efb6b"
      },
      "outputs": [
        {
          "name": "stderr",
          "output_type": "stream",
          "text": [
            "  0%|          | 0/257 [00:00<?, ?it/s]"
          ]
        },
        {
          "name": "stderr",
          "output_type": "stream",
          "text": [
            "100%|██████████| 257/257 [00:15<00:00, 16.71it/s]\n"
          ]
        },
        {
          "data": {
            "text/plain": [
              "{'bleu1': 0.6587249186254243,\n",
              " 'bleu2': 0.527339099396375,\n",
              " 'bleu3': 0.45838239595263586,\n",
              " 'bleu4': 0.4054157011648424,\n",
              " 'meteor': 0.42395250363991616,\n",
              " 'rouge1': 0.5435795097962426,\n",
              " 'rouge2': 0.296971015080959,\n",
              " 'rougeL': 0.5307145570545894}"
            ]
          },
          "execution_count": 59,
          "metadata": {},
          "output_type": "execute_result"
        }
      ],
      "source": [
        "# Evaluating on the test set\n",
        "compute_metrics(model, test_dataloader)"
      ]
    },
    {
      "cell_type": "code",
      "execution_count": 60,
      "metadata": {
        "colab": {
          "base_uri": "https://localhost:8080/"
        },
        "id": "BNpXyNpAdHy_",
        "outputId": "686ba81a-2bf1-4277-c709-bfba6a7ac58a"
      },
      "outputs": [
        {
          "name": "stdout",
          "output_type": "stream",
          "text": [
            "Original: How many other guys named Tom do you know\n",
            "Target: ¿A cuántos otros sujetos de nombre Tom conoces\n",
            "Prediction: ¿Cuántas veces no no lo que\n",
            "\n",
            "Original: I want one\n",
            "Target: ¡Quiero una\n",
            "Prediction: Quiero uno\n",
            "\n",
            "Original: Tom has been convicted of drunken driving twice in the last four years\n",
            "Target: Tom fue condenado por conducir en estado de ebriedad dos veces en los últimos cuatro años\n",
            "Prediction: Tom ha estado condenado de conducción conducción de conducción de de los años de los últimos años años\n",
            "\n",
            "Original: Perhaps Tom wo n't go to Boston\n",
            "Target: Puede que Tom no vaya a Boston\n",
            "Prediction: Quizás a Tom no no a Boston Boston\n",
            "\n",
            "Original: I 've been patient my whole life\n",
            "Target: He sido paciente toda mi vida\n",
            "Prediction: He estado toda vida toda mi\n",
            "\n",
            "Original: Some things are better left undone\n",
            "Target: Algunas cosas es mejor sin hacer\n",
            "Prediction: Ciertas cosas se quedan quedan\n",
            "\n",
            "Original: Have you understood everything\n",
            "Target: ¿Has entendido todo\n",
            "Prediction: ¿Has has dado\n",
            "\n",
            "Original: Do you really want to go to Germany\n",
            "Target: ¿De verdad quieres ir a Alemania\n",
            "Prediction: ¿Realmente verdad quieres que a\n",
            "\n",
            "Original: and doing are two different things\n",
            "Target: Del dicho al hecho hay mucho trecho\n",
            "Prediction: El y y son y son dos cosas\n",
            "\n",
            "Original: We have to respect local customs\n",
            "Target: Debemos respetar las costumbres locales\n",
            "Prediction: Tenemos que unir a la\n",
            "\n",
            "Original: I want to make a good first impression\n",
            "Target: Quiero causar una buena primera impresión\n",
            "Prediction: Quiero hacer una buena primero\n",
            "\n",
            "Original: Show me your passport please\n",
            "Target: Por favor muéstreme su pasaporte\n",
            "Prediction: Pasaporte su pasaporte por favor\n",
            "\n",
            "Original: We met at two in the afternoon\n",
            "Target: Nos encontramos a las dos de la tarde\n",
            "Prediction: Nos encontramos en dos la la\n",
            "\n",
            "Original: I 'm happy that I 'm not the boss\n",
            "Target: Me alegro de no ser el jefe\n",
            "Prediction: Estoy soy que que no el jefe jefe\n",
            "\n",
            "Original: I owe Tom money\n",
            "Target: Le debo dinero a Tom\n",
            "Prediction: Le le Tom dinero Tom\n",
            "\n",
            "Original: I 'm annoyed that I ca n't go\n",
            "Target: Me fastidia no poder ir\n",
            "Prediction: Me espero que no puedo ir\n",
            "\n",
            "Original: Get your hands off me\n",
            "Target: Quítame las manos de encima\n",
            "Prediction: Quítame las manos de\n",
            "\n",
            "Original: You do n't have to answer\n",
            "Target: No hace falta que respondas\n",
            "Prediction: No tienes que responder responda\n",
            "\n",
            "Original: Have you ever seen Tokyo Tower\n",
            "Target: ¿Nunca has visto la torre de Tokio\n",
            "Prediction: ¿Alguna vez alguna vez vez Tokio\n",
            "\n",
            "Original: Tom looks happy today\n",
            "Target: Hoy Tom parece feliz\n",
            "Prediction: Tom parece ve feliz hoy\n",
            "\n",
            "Original: It really is very simple\n",
            "Target: Es realmente simple\n",
            "Prediction: Es muy es simple\n",
            "\n",
            "Original: Do you drink coffee\n",
            "Target: ¿Tomás café\n",
            "Prediction: ¿Bebes café\n",
            "\n",
            "Original: The police are suspicious of the old man\n",
            "Target: La policía sospecha del anciano\n",
            "Prediction: La anciano es de de de anciano\n",
            "\n",
            "Original: Lend me some books to read\n",
            "Target: Déjame algunos libros para leer\n",
            "Prediction: Préstame libros libros leer leer\n",
            "\n",
            "Original: He does n't have his feet on the ground\n",
            "Target: Él no tiene los pies en el suelo\n",
            "Prediction: Él no tiene el el en el suelo\n",
            "\n",
            "Original: It 's a bit flimsy\n",
            "Target: Es un poco débil\n",
            "Prediction: Es un poco poco\n",
            "\n",
            "Original: If only I could go skiing\n",
            "Target: Si solo pudiera ir a esquiar\n",
            "Prediction: Ay yo pudiera ir ir esquiar\n",
            "\n",
            "Original: Send it to me now\n",
            "Target: ahora\n",
            "Prediction: Mándamelo ahora\n",
            "\n",
            "Original: Tom thanked me for changing his life\n",
            "Target: Tom me agradeció que cambiara su vida\n",
            "Prediction: Tom me agradeció de gracias gracias su su\n",
            "\n",
            "Original: Tom got angry when he saw Mary with John\n",
            "Target: Tom se enojó al ver a Mary con John\n",
            "Prediction: Tom se enfadó cuando vio con con con John\n",
            "\n"
          ]
        }
      ],
      "source": [
        "def show_examples(model, dataloader, num_examples):\n",
        "    model.eval()\n",
        "    counter_examples = 0\n",
        "    special_tokens = ['<s>', '</s>', '<PAD>', '<UNK>']\n",
        "    word2idx_Y_inv = {idx: word for word, idx in dataloader.dataset.word2idx_Y.items()}\n",
        "    word2idx_X_inv = {idx: word for word, idx in dataloader.dataset.word2idx_X.items()}\n",
        "\n",
        "    for inputs, targets in dataloader:\n",
        "        with torch.no_grad():\n",
        "            # Generate the model translations\n",
        "            batch_size = inputs.size(0)\n",
        "            inputs = inputs.to(model.device)\n",
        "            outputs = model(inputs)\n",
        "            outputs = outputs.max(2)[1]\n",
        "\n",
        "            outputs = outputs.cpu().numpy()\n",
        "            targets = targets.cpu().numpy()\n",
        "            inputs = inputs.cpu().numpy()\n",
        "\n",
        "            # Iterate over the batch\n",
        "            for i in range(batch_size):\n",
        "                # Convert indices to words and filter out special tokens\n",
        "                outputs_i = outputs[i]\n",
        "                targets_i = targets[i]\n",
        "                inputs_i = inputs[i]\n",
        "\n",
        "                outputs_i = [word2idx_Y_inv[idx] for idx in outputs_i]\n",
        "                targets_i = [word2idx_Y_inv[idx] for idx in targets_i]\n",
        "                inputs_i = [word2idx_X_inv[idx] for idx in inputs_i]\n",
        "\n",
        "                outputs_i = [word for word in outputs_i if word not in special_tokens]\n",
        "                targets_i = [word for word in targets_i if word not in special_tokens]\n",
        "                inputs_i = [word for word in inputs_i if word not in special_tokens]\n",
        "\n",
        "                targets_i = ' '.join(targets_i)\n",
        "                outputs_i = ' '.join(outputs_i)\n",
        "                inputs_i = ' '.join(inputs_i)\n",
        "\n",
        "                print(\"Original:\", inputs_i)\n",
        "                print(\"Target:\", targets_i)\n",
        "                print(\"Prediction:\", outputs_i)\n",
        "                print()\n",
        "                counter_examples += 1\n",
        "                # Stop if we have shown the desired number of examples\n",
        "                if counter_examples == num_examples:\n",
        "                    return\n",
        "\n",
        "show_examples(model, test_dataloader, num_examples=30)"
      ]
    },
    {
      "cell_type": "markdown",
      "metadata": {},
      "source": [
        "## LSTM with Bhadanau Attention"
      ]
    },
    {
      "cell_type": "code",
      "execution_count": 18,
      "metadata": {},
      "outputs": [],
      "source": [
        "class BahdanauAttention(nn.Module):\n",
        "    def __init__(self, hidden_size, decoder_layer, device = 'cuda'):\n",
        "        super(BahdanauAttention, self).__init__()\n",
        "        self.hidden_size = hidden_size\n",
        "        self.decoder_layer = decoder_layer\n",
        "        self.softmax = nn.Softmax(dim=2)\n",
        "        self.proj = nn.Linear(self.hidden_size, self.hidden_size)\n",
        "        self.tanh = nn.Tanh()\n",
        "        self.hidden_proj = nn.Linear(self.hidden_size, self.hidden_size)\n",
        "        self.encoder_output_proj = nn.Linear(self.hidden_size, self.hidden_size)\n",
        "        self.out = nn.Linear(hidden_size, 1)\n",
        "        self.DEVICE = device\n",
        "\n",
        "    def forward(self, hidden, encoder_output):\n",
        "        # hidden -> layers, batch, features\n",
        "        # encoder_output # batch, time_step, features\n",
        "        hidden = hidden.permute(1, 2, 0) # batch, features, layers\n",
        "        addMask = torch.FloatTensor([1/self.decoder_layer] * self.decoder_layer).view(1, self.decoder_layer, 1).to(self.DEVICE)\n",
        "        addMask = torch.cat([addMask] * hidden.shape[0], dim=0)\n",
        "        hidden = torch.bmm(hidden, addMask) # batch, feature, 1\n",
        "        hidden = hidden.permute(0, 2, 1) # batch, 1, features\n",
        "        hidden_attn = self.hidden_proj(hidden) # b, 1, f\n",
        "        \n",
        "        encoder_output_attn = self.encoder_output_proj(encoder_output) # t, b, f\n",
        "        res_attn = self.tanh(encoder_output_attn + hidden_attn) # b, t, f\n",
        "        out_attn = self.out(res_attn) # b, t, 1\n",
        "        out_attn = out_attn.permute(0, 2, 1) # b, 1, t\n",
        "        out_attn = self.softmax(out_attn) # b, 1, t\n",
        "        return out_attn"
      ]
    },
    {
      "cell_type": "code",
      "execution_count": 19,
      "metadata": {},
      "outputs": [],
      "source": [
        "# A version of our model with the attention mechanism, using Bahdanau attention\n",
        "class Translator_Attention(nn.Module):\n",
        "    def __init__(self, vocab_size_input, vocab_size_target, target_len, hidden_size=300, n_layers=1, dropout=0.1):\n",
        "        super(Translator_Attention, self).__init__()\n",
        "        self.device = torch.device('cuda' if torch.cuda.is_available() else 'cpu')\n",
        "        self.hidden_size = hidden_size\n",
        "        self.n_layers = n_layers\n",
        "        self.target_len = target_len\n",
        "\n",
        "        # Initialize the encoder and decoder\n",
        "        self.embedding = nn.Embedding(vocab_size_input, hidden_size)\n",
        "        self.lstm_enc = nn.LSTM(hidden_size, hidden_size, n_layers, batch_first=True)\n",
        "        self.lstm_dec = nn.LSTM(hidden_size * 2, hidden_size, n_layers, batch_first=True)\n",
        "\n",
        "        # Initialize the projection layer\n",
        "        self.projection = nn.Sequential(\n",
        "            nn.Dropout(dropout),\n",
        "            nn.Linear(hidden_size, vocab_size_target)\n",
        "        )\n",
        "\n",
        "        # Initialize the attention layer\n",
        "        self.attention = BahdanauAttention(hidden_size, n_layers, self.device)\n",
        "\n",
        "    def forward(self, input):\n",
        "        batch_size = input.size(0)\n",
        "\n",
        "        # Initialize the hidden and cell states\n",
        "        hidden = torch.zeros(self.n_layers, batch_size, self.hidden_size).to(self.device)\n",
        "        cell = torch.zeros(self.n_layers, batch_size, self.hidden_size).to(self.device)\n",
        "\n",
        "        # Embed the input tokens of the encoder\n",
        "        embedded = self.embedding(input)\n",
        "        # Pass the embedded tokens through the encoder\n",
        "        out_enc, (hidden, cell) = self.lstm_enc(embedded, (hidden, cell))\n",
        "\n",
        "        # Initialize the input of the decoder\n",
        "        inp = torch.zeros(batch_size, self.hidden_size).to(self.device).unsqueeze(1)\n",
        "        # Initialize the predictions tensor\n",
        "        pred = self.projection(inp)\n",
        "        for i in range(self.target_len - 1): # rm <SOS>\n",
        "            # Compute the attention weights, given the current hidden state and the encoder output\n",
        "            attention = self.attention(hidden, out_enc)\n",
        "            # Compute the attention output\n",
        "            out_attention = torch.bmm(attention, out_enc) # b, 1, f\n",
        "            # Concatenate the attention output with the input and pass it through the decoder\n",
        "            inp = torch.cat((inp, out_attention), dim=2)\n",
        "            out, (hidden, cell) = self.lstm_dec(inp, (hidden, cell))\n",
        "\n",
        "            # Project the output of the decoder and save it in the predictions tensor\n",
        "            pred = torch.cat((pred, self.projection(out)), dim=1)\n",
        "            # Update the input of the decoder\n",
        "            inp = out\n",
        "\n",
        "        return pred\n"
      ]
    },
    {
      "cell_type": "code",
      "execution_count": 94,
      "metadata": {},
      "outputs": [
        {
          "data": {
            "text/plain": [
              "Translator_Attention(\n",
              "  (embedding): Embedding(14167, 300)\n",
              "  (lstm_enc): LSTM(300, 300, batch_first=True)\n",
              "  (lstm_dec): LSTM(600, 300, batch_first=True)\n",
              "  (projection): Sequential(\n",
              "    (0): Dropout(p=0.1, inplace=False)\n",
              "    (1): Linear(in_features=300, out_features=27915, bias=True)\n",
              "  )\n",
              "  (attention): BahdanauAttention(\n",
              "    (softmax): Softmax(dim=2)\n",
              "    (proj): Linear(in_features=300, out_features=300, bias=True)\n",
              "    (tanh): Tanh()\n",
              "    (hidden_proj): Linear(in_features=300, out_features=300, bias=True)\n",
              "    (encoder_output_proj): Linear(in_features=300, out_features=300, bias=True)\n",
              "    (out): Linear(in_features=300, out_features=1, bias=True)\n",
              "  )\n",
              ")"
            ]
          },
          "execution_count": 94,
          "metadata": {},
          "output_type": "execute_result"
        }
      ],
      "source": [
        "# Initialize the model\n",
        "model = Translator_Attention(len(train_dataset.vocab_X), len(train_dataset.vocab_Y), train_dataset.MAX_LENGTH_out+2)\n",
        "model.to(model.device)"
      ]
    },
    {
      "cell_type": "code",
      "execution_count": null,
      "metadata": {},
      "outputs": [],
      "source": [
        "# Define the optimizer and loss function\n",
        "optimizer = optim.AdamW(model.parameters())\n",
        "criterion = nn.CrossEntropyLoss()\n",
        "\n",
        "results_complete, loss_hist = train(model, optimizer, criterion, train_dataloader, num_epochs=10)"
      ]
    },
    {
      "cell_type": "code",
      "execution_count": 178,
      "metadata": {},
      "outputs": [
        {
          "data": {
            "text/plain": [
              "<All keys matched successfully>"
            ]
          },
          "execution_count": 178,
          "metadata": {},
          "output_type": "execute_result"
        }
      ],
      "source": [
        "# Load the best model\n",
        "model.load_state_dict(torch.load('best_model_15.pth'))"
      ]
    },
    {
      "cell_type": "code",
      "execution_count": null,
      "metadata": {},
      "outputs": [],
      "source": [
        "# Do a subplot for each metric\n",
        "fig, axs = plt.subplots(2, 4, figsize=(20, 10))\n",
        "for i, key in enumerate(results_complete.keys()):\n",
        "    axs[i//4, i%4].plot(results_complete[key])\n",
        "    axs[i//4, i%4].set_title(key)"
      ]
    },
    {
      "cell_type": "code",
      "execution_count": null,
      "metadata": {},
      "outputs": [],
      "source": [
        "plt.plot(loss_hist)\n",
        "plt.title('Training loss')\n",
        "plt.xlabel('Epoch')\n",
        "plt.ylabel('Loss')\n",
        "plt.show()"
      ]
    },
    {
      "cell_type": "code",
      "execution_count": 65,
      "metadata": {},
      "outputs": [
        {
          "name": "stderr",
          "output_type": "stream",
          "text": [
            "100%|██████████| 257/257 [00:23<00:00, 11.02it/s]\n"
          ]
        },
        {
          "data": {
            "text/plain": [
              "{'bleu1': 0.703852573802549,\n",
              " 'bleu2': 0.5892827048085753,\n",
              " 'bleu3': 0.5242938133038587,\n",
              " 'bleu4': 0.47317917882890975,\n",
              " 'meteor': 0.498231652719249,\n",
              " 'rouge1': 0.6009285538348157,\n",
              " 'rouge2': 0.364605186848296,\n",
              " 'rougeL': 0.5883671894393528}"
            ]
          },
          "execution_count": 65,
          "metadata": {},
          "output_type": "execute_result"
        }
      ],
      "source": [
        "# Evaluating on the test set\n",
        "compute_metrics(model, test_dataloader)"
      ]
    },
    {
      "cell_type": "code",
      "execution_count": 66,
      "metadata": {},
      "outputs": [
        {
          "name": "stdout",
          "output_type": "stream",
          "text": [
            "Original: How many other guys named Tom do you know\n",
            "Target: ¿A cuántos otros sujetos de nombre Tom conoces\n",
            "Prediction: ¿Cuántos Tom Tom Tom Tom sabés\n",
            "\n",
            "Original: I want one\n",
            "Target: ¡Quiero una\n",
            "Prediction: Quiero uno\n",
            "\n",
            "Original: Tom has been convicted of drunken driving twice in the last four years\n",
            "Target: Tom fue condenado por conducir en estado de ebriedad dos veces en los últimos cuatro años\n",
            "Prediction: Tom ha estado condenado de conducción de de efectos efectos efectos efectos veces de últimos últimos últimos años años\n",
            "\n",
            "Original: Perhaps Tom wo n't go to Boston\n",
            "Target: Puede que Tom no vaya a Boston\n",
            "Prediction: Quizá Tom no se a a Boston\n",
            "\n",
            "Original: I 've been patient my whole life\n",
            "Target: He sido paciente toda mi vida\n",
            "Prediction: He toda paciente vida mi vida\n",
            "\n",
            "Original: Some things are better left undone\n",
            "Target: Algunas cosas es mejor sin hacer\n",
            "Prediction: Algunas cosas son mejores se\n",
            "\n",
            "Original: Have you understood everything\n",
            "Target: ¿Has entendido todo\n",
            "Prediction: ¿Has todo todo\n",
            "\n",
            "Original: Do you really want to go to Germany\n",
            "Target: ¿De verdad quieres ir a Alemania\n",
            "Prediction: ¿Realmente verdad ir a a Alemania\n",
            "\n",
            "Original: and doing are two different things\n",
            "Target: Del dicho al hecho hay mucho trecho\n",
            "Prediction: Las Cristianismo y hacer dos cosas cosas\n",
            "\n",
            "Original: We have to respect local customs\n",
            "Target: Debemos respetar las costumbres locales\n",
            "Prediction: Tenemos que respetar de de\n",
            "\n",
            "Original: I want to make a good first impression\n",
            "Target: Quiero causar una buena primera impresión\n",
            "Prediction: Quiero hacer una buena impresión impresión\n",
            "\n",
            "Original: Show me your passport please\n",
            "Target: Por favor muéstreme su pasaporte\n",
            "Prediction: Enséñeme su favor favor\n",
            "\n",
            "Original: We met at two in the afternoon\n",
            "Target: Nos encontramos a las dos de la tarde\n",
            "Prediction: Nos encontramos en las tarde la tarde\n",
            "\n",
            "Original: I 'm happy that I 'm not the boss\n",
            "Target: Me alegro de no ser el jefe\n",
            "Prediction: Estoy alegro que no no el el jefe\n",
            "\n",
            "Original: I owe Tom money\n",
            "Target: Le debo dinero a Tom\n",
            "Prediction: Le debo ganar dinero Tom\n",
            "\n",
            "Original: I 'm annoyed that I ca n't go\n",
            "Target: Me fastidia no poder ir\n",
            "Prediction: Estoy alegro que no puedo ir\n",
            "\n",
            "Original: Get your hands off me\n",
            "Target: Quítame las manos de encima\n",
            "Prediction: Quítame las manos\n",
            "\n",
            "Original: You do n't have to answer\n",
            "Target: No hace falta que respondas\n",
            "Prediction: No tienes que responda\n",
            "\n",
            "Original: Have you ever seen Tokyo Tower\n",
            "Target: ¿Nunca has visto la torre de Tokio\n",
            "Prediction: ¿Alguna vez has alguna alguna alguna\n",
            "\n",
            "Original: Tom looks happy today\n",
            "Target: Hoy Tom parece feliz\n",
            "Prediction: Tom se ve feliz\n",
            "\n",
            "Original: It really is very simple\n",
            "Target: Es realmente simple\n",
            "Prediction: Es es simple simple\n",
            "\n",
            "Original: Do you drink coffee\n",
            "Target: ¿Tomás café\n",
            "Prediction: ¿Usted café\n",
            "\n",
            "Original: The police are suspicious of the old man\n",
            "Target: La policía sospecha del anciano\n",
            "Prediction: La policía se de de anciano hombre\n",
            "\n",
            "Original: Lend me some books to read\n",
            "Target: Déjame algunos libros para leer\n",
            "Prediction: Préstame de libros para leer\n",
            "\n",
            "Original: He does n't have his feet on the ground\n",
            "Target: Él no tiene los pies en el suelo\n",
            "Prediction: Él no tiene los pies en el suelo\n",
            "\n",
            "Original: It 's a bit flimsy\n",
            "Target: Es un poco débil\n",
            "Prediction: Es un poco\n",
            "\n",
            "Original: If only I could go skiing\n",
            "Target: Si solo pudiera ir a esquiar\n",
            "Prediction: Ay pudiera pudiera ir a ir\n",
            "\n",
            "Original: Send it to me now\n",
            "Target: ahora\n",
            "Prediction: Mándamelo ahora\n",
            "\n",
            "Original: Tom thanked me for changing his life\n",
            "Target: Tom me agradeció que cambiara su vida\n",
            "Prediction: Tom me agradeció por de de su vida\n",
            "\n",
            "Original: Tom got angry when he saw Mary with John\n",
            "Target: Tom se enojó al ver a Mary con John\n",
            "Prediction: Tom se enfadó cuando vio a Mary con John\n",
            "\n"
          ]
        }
      ],
      "source": [
        "show_examples(model, test_dataloader, num_examples=30)"
      ]
    },
    {
      "cell_type": "code",
      "execution_count": 94,
      "metadata": {},
      "outputs": [
        {
          "data": {
            "text/plain": [
              "tensor([[  245,   245,   245,  ...,  3155, 13087,   244],\n",
              "        [  245,   245,   245,  ...,  2435, 12946,   244],\n",
              "        [  245,   245,   245,  ..., 14145,  4397,   244],\n",
              "        ...,\n",
              "        [  245,   245,   245,  ...,  1856,  6737,   244],\n",
              "        [  245,   245,   245,  ...,  6459,  8246,   244],\n",
              "        [  245,   245,   245,  ..., 12988,  8967,   244]])"
            ]
          },
          "execution_count": 94,
          "metadata": {},
          "output_type": "execute_result"
        }
      ],
      "source": [
        "train_dataset.lines"
      ]
    },
    {
      "cell_type": "markdown",
      "metadata": {},
      "source": [
        "## Plotting the attention maps"
      ]
    },
    {
      "cell_type": "code",
      "execution_count": 138,
      "metadata": {},
      "outputs": [
        {
          "data": {
            "text/plain": [
              "<All keys matched successfully>"
            ]
          },
          "execution_count": 138,
          "metadata": {},
          "output_type": "execute_result"
        }
      ],
      "source": [
        "# Load the best model\n",
        "model.load_state_dict(torch.load('best_model_15.pth', map_location=torch.device('cpu')))"
      ]
    },
    {
      "cell_type": "code",
      "execution_count": 139,
      "metadata": {},
      "outputs": [],
      "source": [
        "# Create the hook for the attention layer\n",
        "attention_weights = []\n",
        "def attention_hook(module, input, output):\n",
        "    attention_weights.append(output)\n",
        "\n",
        "# Register the hook\n",
        "hook_handle = model.attention.register_forward_hook(attention_hook)"
      ]
    },
    {
      "cell_type": "code",
      "execution_count": 140,
      "metadata": {},
      "outputs": [],
      "source": [
        "# Put the model in evaluation mode\n",
        "model.eval()\n",
        "# Select a sentence to translate\n",
        "instance = test_dataset[29]\n",
        "target2idx = {idx: word for word, idx in train_dataset.word2idx_Y.items()}\n",
        "x2idx = {idx: word for word, idx in train_dataset.word2idx_X.items()}\n",
        "sentence = [x2idx[idx] for idx in instance[0].numpy() if x2idx[idx] not in {'<PAD>'}]"
      ]
    },
    {
      "cell_type": "code",
      "execution_count": 141,
      "metadata": {},
      "outputs": [],
      "source": [
        "# Make the forward pass\n",
        "pred = model(instance[0].unsqueeze(0).to(model.device))\n",
        "# Get the predictions\n",
        "pred_sentence = pred.max(2)[1].cpu().numpy()[0]\n",
        "# Take out the special tokens\n",
        "pred_idx_words = [word for word in pred_sentence if word != 231]\n",
        "pred_words = [target2idx[word] for word in pred_idx_words]"
      ]
    },
    {
      "cell_type": "code",
      "execution_count": 142,
      "metadata": {},
      "outputs": [],
      "source": [
        "attention_weights_ = torch.cat(attention_weights).squeeze(1)\n",
        "associate_att_weights = attention_weights_[:pred_words.__len__(), -len(sentence):] # Remove the padding from the weights"
      ]
    },
    {
      "cell_type": "code",
      "execution_count": 143,
      "metadata": {},
      "outputs": [],
      "source": [
        "hook_handle.remove()"
      ]
    },
    {
      "cell_type": "code",
      "execution_count": 144,
      "metadata": {},
      "outputs": [
        {
          "data": {
            "image/png": "[encoded data removed]",
            "text/plain": [
              "<Figure size 2000x1000 with 1 Axes>"
            ]
          },
          "metadata": {},
          "output_type": "display_data"
        }
      ],
      "source": [
        "# Plot the attention weights\n",
        "plt.figure(figsize=(20, 10))\n",
        "plt.imshow(associate_att_weights.cpu().detach().numpy(), cmap='hot')\n",
        "# Set the x-axis labels to the words of the input sentence\n",
        "l = plt.xticks(range(len(sentence)), sentence, rotation=45, fontsize=27)\n",
        "# Set the y-axis labels to the words of the output sentence\n",
        "d = plt.yticks(range(len(pred_words)), pred_words, fontsize=27)"
      ]
    },
    {
      "cell_type": "code",
      "execution_count": 145,
      "metadata": {},
      "outputs": [],
      "source": [
        "# Create the hook for the attention layer\n",
        "attention_weights = []\n",
        "def attention_hook(module, input, output):\n",
        "    attention_weights.append(output)\n",
        "\n",
        "# Register the hook\n",
        "hook_handle = model.attention.register_forward_hook(attention_hook)"
      ]
    },
    {
      "cell_type": "code",
      "execution_count": 146,
      "metadata": {},
      "outputs": [],
      "source": [
        "# Put the model in evaluation mode\n",
        "model.eval()\n",
        "# Select a sentence to translate\n",
        "instance = test_dataset[200]\n",
        "target2idx = {idx: word for word, idx in train_dataset.word2idx_Y.items()}\n",
        "x2idx = {idx: word for word, idx in train_dataset.word2idx_X.items()}\n",
        "sentence = [x2idx[idx] for idx in instance[0].numpy() if x2idx[idx] not in {'<PAD>'}]"
      ]
    },
    {
      "cell_type": "code",
      "execution_count": 147,
      "metadata": {},
      "outputs": [],
      "source": [
        "# Make the forward pass\n",
        "pred = model(instance[0].unsqueeze(0).to(model.device))\n",
        "# Get the predictions\n",
        "pred_sentence = pred.max(2)[1].cpu().numpy()[0]\n",
        "# Take out the special tokens\n",
        "pred_idx_words = [word for word in pred_sentence if word != 231]\n",
        "pred_words = [target2idx[word] for word in pred_idx_words]"
      ]
    },
    {
      "cell_type": "code",
      "execution_count": 148,
      "metadata": {},
      "outputs": [],
      "source": [
        "attention_weights_ = torch.cat(attention_weights).squeeze(1)\n",
        "associate_att_weights = attention_weights_[:pred_words.__len__(), -len(sentence):] # Remove the padding from the weights"
      ]
    },
    {
      "cell_type": "code",
      "execution_count": 149,
      "metadata": {},
      "outputs": [],
      "source": [
        "hook_handle.remove()"
      ]
    },
    {
      "cell_type": "code",
      "execution_count": 150,
      "metadata": {},
      "outputs": [
        {
          "data": {
            "image/png": "[encoded data removed]",
            "text/plain": [
              "<Figure size 2000x1000 with 1 Axes>"
            ]
          },
          "metadata": {},
          "output_type": "display_data"
        }
      ],
      "source": [
        "# Plot the attention weights\n",
        "plt.figure(figsize=(20, 10))\n",
        "plt.imshow(associate_att_weights.cpu().detach().numpy(), cmap='hot')\n",
        "# Set the x-axis labels to the words of the input sentence\n",
        "l = plt.xticks(range(len(sentence)), sentence, rotation=45, fontsize=27)\n",
        "# Set the y-axis labels to the words of the output sentence\n",
        "d = plt.yticks(range(len(pred_words)), pred_words, fontsize=27)"
      ]
    }
  ],
  "metadata": {
    "accelerator": "GPU",
    "colab": {
      "gpuType": "T4",
      "provenance": []
    },
    "kernelspec": {
      "display_name": "Python 3",
      "name": "python3"
    },
    "language_info": {
      "codemirror_mode": {
        "name": "ipython",
        "version": 3
      },
      "file_extension": ".py",
      "mimetype": "text/x-python",
      "name": "python",
      "nbconvert_exporter": "python",
      "pygments_lexer": "ipython3",
      "version": "3.11.7"
    },
    "widgets": {
      "application/vnd.jupyter.widget-state+json": {
        "1ba956eb37f248ecb8808fe27a3fe2f6": {
          "model_module": "@jupyter-widgets/controls",
          "model_module_version": "1.5.0",
          "model_name": "DescriptionStyleModel",
          "state": {
            "_model_module": "@jupyter-widgets/controls",
            "_model_module_version": "1.5.0",
            "_model_name": "DescriptionStyleModel",
            "_view_count": null,
            "_view_module": "@jupyter-widgets/base",
            "_view_module_version": "1.2.0",
            "_view_name": "StyleView",
            "description_width": ""
          }
        },
        "2f63b4289d124b078a740c90e28fcfdc": {
          "model_module": "@jupyter-widgets/controls",
          "model_module_version": "1.5.0",
          "model_name": "HTMLModel",
          "state": {
            "_dom_classes": [],
            "_model_module": "@jupyter-widgets/controls",
            "_model_module_version": "1.5.0",
            "_model_name": "HTMLModel",
            "_view_count": null,
            "_view_module": "@jupyter-widgets/controls",
            "_view_module_version": "1.5.0",
            "_view_name": "HTMLView",
            "description": "",
            "description_tooltip": null,
            "layout": "IPY_MODEL_8592e0fcf1df4b33b6c244dbfe477af8",
            "placeholder": "​",
            "style": "IPY_MODEL_7fbf0efd978e49e7bf3fe358c0d579be",
            "value": " 6.93k/6.93k [00:00&lt;00:00, 401kB/s]"
          }
        },
        "364b3c0fbeda4ed281f2fa372c050f3f": {
          "model_module": "@jupyter-widgets/controls",
          "model_module_version": "1.5.0",
          "model_name": "FloatProgressModel",
          "state": {
            "_dom_classes": [],
            "_model_module": "@jupyter-widgets/controls",
            "_model_module_version": "1.5.0",
            "_model_name": "FloatProgressModel",
            "_view_count": null,
            "_view_module": "@jupyter-widgets/controls",
            "_view_module_version": "1.5.0",
            "_view_name": "ProgressView",
            "bar_style": "success",
            "description": "",
            "description_tooltip": null,
            "layout": "IPY_MODEL_9db2ec7e8d16444cb2c52eefd1e61e55",
            "max": 6927,
            "min": 0,
            "orientation": "horizontal",
            "style": "IPY_MODEL_50c399ecc4af4578aeb8971c82711298",
            "value": 6927
          }
        },
        "50c399ecc4af4578aeb8971c82711298": {
          "model_module": "@jupyter-widgets/controls",
          "model_module_version": "1.5.0",
          "model_name": "ProgressStyleModel",
          "state": {
            "_model_module": "@jupyter-widgets/controls",
            "_model_module_version": "1.5.0",
            "_model_name": "ProgressStyleModel",
            "_view_count": null,
            "_view_module": "@jupyter-widgets/base",
            "_view_module_version": "1.2.0",
            "_view_name": "StyleView",
            "bar_color": null,
            "description_width": ""
          }
        },
        "7fbf0efd978e49e7bf3fe358c0d579be": {
          "model_module": "@jupyter-widgets/controls",
          "model_module_version": "1.5.0",
          "model_name": "DescriptionStyleModel",
          "state": {
            "_model_module": "@jupyter-widgets/controls",
            "_model_module_version": "1.5.0",
            "_model_name": "DescriptionStyleModel",
            "_view_count": null,
            "_view_module": "@jupyter-widgets/base",
            "_view_module_version": "1.2.0",
            "_view_name": "StyleView",
            "description_width": ""
          }
        },
        "8592e0fcf1df4b33b6c244dbfe477af8": {
          "model_module": "@jupyter-widgets/base",
          "model_module_version": "1.2.0",
          "model_name": "LayoutModel",
          "state": {
            "_model_module": "@jupyter-widgets/base",
            "_model_module_version": "1.2.0",
            "_model_name": "LayoutModel",
            "_view_count": null,
            "_view_module": "@jupyter-widgets/base",
            "_view_module_version": "1.2.0",
            "_view_name": "LayoutView",
            "align_content": null,
            "align_items": null,
            "align_self": null,
            "border": null,
            "bottom": null,
            "display": null,
            "flex": null,
            "flex_flow": null,
            "grid_area": null,
            "grid_auto_columns": null,
            "grid_auto_flow": null,
            "grid_auto_rows": null,
            "grid_column": null,
            "grid_gap": null,
            "grid_row": null,
            "grid_template_areas": null,
            "grid_template_columns": null,
            "grid_template_rows": null,
            "height": null,
            "justify_content": null,
            "justify_items": null,
            "left": null,
            "margin": null,
            "max_height": null,
            "max_width": null,
            "min_height": null,
            "min_width": null,
            "object_fit": null,
            "object_position": null,
            "order": null,
            "overflow": null,
            "overflow_x": null,
            "overflow_y": null,
            "padding": null,
            "right": null,
            "top": null,
            "visibility": null,
            "width": null
          }
        },
        "86c174e8022145afaa98282f7b7925a8": {
          "model_module": "@jupyter-widgets/controls",
          "model_module_version": "1.5.0",
          "model_name": "HBoxModel",
          "state": {
            "_dom_classes": [],
            "_model_module": "@jupyter-widgets/controls",
            "_model_module_version": "1.5.0",
            "_model_name": "HBoxModel",
            "_view_count": null,
            "_view_module": "@jupyter-widgets/controls",
            "_view_module_version": "1.5.0",
            "_view_name": "HBoxView",
            "box_style": "",
            "children": [
              "IPY_MODEL_dbcf78e44d7e417495bc76ed88f4695b",
              "IPY_MODEL_364b3c0fbeda4ed281f2fa372c050f3f",
              "IPY_MODEL_2f63b4289d124b078a740c90e28fcfdc"
            ],
            "layout": "IPY_MODEL_c02c2475dc6e41b193577554b786eed4"
          }
        },
        "9db2ec7e8d16444cb2c52eefd1e61e55": {
          "model_module": "@jupyter-widgets/base",
          "model_module_version": "1.2.0",
          "model_name": "LayoutModel",
          "state": {
            "_model_module": "@jupyter-widgets/base",
            "_model_module_version": "1.2.0",
            "_model_name": "LayoutModel",
            "_view_count": null,
            "_view_module": "@jupyter-widgets/base",
            "_view_module_version": "1.2.0",
            "_view_name": "LayoutView",
            "align_content": null,
            "align_items": null,
            "align_self": null,
            "border": null,
            "bottom": null,
            "display": null,
            "flex": null,
            "flex_flow": null,
            "grid_area": null,
            "grid_auto_columns": null,
            "grid_auto_flow": null,
            "grid_auto_rows": null,
            "grid_column": null,
            "grid_gap": null,
            "grid_row": null,
            "grid_template_areas": null,
            "grid_template_columns": null,
            "grid_template_rows": null,
            "height": null,
            "justify_content": null,
            "justify_items": null,
            "left": null,
            "margin": null,
            "max_height": null,
            "max_width": null,
            "min_height": null,
            "min_width": null,
            "object_fit": null,
            "object_position": null,
            "order": null,
            "overflow": null,
            "overflow_x": null,
            "overflow_y": null,
            "padding": null,
            "right": null,
            "top": null,
            "visibility": null,
            "width": null
          }
        },
        "c02c2475dc6e41b193577554b786eed4": {
          "model_module": "@jupyter-widgets/base",
          "model_module_version": "1.2.0",
          "model_name": "LayoutModel",
          "state": {
            "_model_module": "@jupyter-widgets/base",
            "_model_module_version": "1.2.0",
            "_model_name": "LayoutModel",
            "_view_count": null,
            "_view_module": "@jupyter-widgets/base",
            "_view_module_version": "1.2.0",
            "_view_name": "LayoutView",
            "align_content": null,
            "align_items": null,
            "align_self": null,
            "border": null,
            "bottom": null,
            "display": null,
            "flex": null,
            "flex_flow": null,
            "grid_area": null,
            "grid_auto_columns": null,
            "grid_auto_flow": null,
            "grid_auto_rows": null,
            "grid_column": null,
            "grid_gap": null,
            "grid_row": null,
            "grid_template_areas": null,
            "grid_template_columns": null,
            "grid_template_rows": null,
            "height": null,
            "justify_content": null,
            "justify_items": null,
            "left": null,
            "margin": null,
            "max_height": null,
            "max_width": null,
            "min_height": null,
            "min_width": null,
            "object_fit": null,
            "object_position": null,
            "order": null,
            "overflow": null,
            "overflow_x": null,
            "overflow_y": null,
            "padding": null,
            "right": null,
            "top": null,
            "visibility": null,
            "width": null
          }
        },
        "dbcf78e44d7e417495bc76ed88f4695b": {
          "model_module": "@jupyter-widgets/controls",
          "model_module_version": "1.5.0",
          "model_name": "HTMLModel",
          "state": {
            "_dom_classes": [],
            "_model_module": "@jupyter-widgets/controls",
            "_model_module_version": "1.5.0",
            "_model_name": "HTMLModel",
            "_view_count": null,
            "_view_module": "@jupyter-widgets/controls",
            "_view_module_version": "1.5.0",
            "_view_name": "HTMLView",
            "description": "",
            "description_tooltip": null,
            "layout": "IPY_MODEL_ebdda9e425e84632861427d37e94d113",
            "placeholder": "​",
            "style": "IPY_MODEL_1ba956eb37f248ecb8808fe27a3fe2f6",
            "value": "Downloading builder script: 100%"
          }
        },
        "ebdda9e425e84632861427d37e94d113": {
          "model_module": "@jupyter-widgets/base",
          "model_module_version": "1.2.0",
          "model_name": "LayoutModel",
          "state": {
            "_model_module": "@jupyter-widgets/base",
            "_model_module_version": "1.2.0",
            "_model_name": "LayoutModel",
            "_view_count": null,
            "_view_module": "@jupyter-widgets/base",
            "_view_module_version": "1.2.0",
            "_view_name": "LayoutView",
            "align_content": null,
            "align_items": null,
            "align_self": null,
            "border": null,
            "bottom": null,
            "display": null,
            "flex": null,
            "flex_flow": null,
            "grid_area": null,
            "grid_auto_columns": null,
            "grid_auto_flow": null,
            "grid_auto_rows": null,
            "grid_column": null,
            "grid_gap": null,
            "grid_row": null,
            "grid_template_areas": null,
            "grid_template_columns": null,
            "grid_template_rows": null,
            "height": null,
            "justify_content": null,
            "justify_items": null,
            "left": null,
            "margin": null,
            "max_height": null,
            "max_width": null,
            "min_height": null,
            "min_width": null,
            "object_fit": null,
            "object_position": null,
            "order": null,
            "overflow": null,
            "overflow_x": null,
            "overflow_y": null,
            "padding": null,
            "right": null,
            "top": null,
            "visibility": null,
            "width": null
          }
        }
      }
    }
  },
  "nbformat": 4,
  "nbformat_minor": 0
}
