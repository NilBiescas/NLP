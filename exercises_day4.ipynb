{
 "cells": [
  {
   "cell_type": "code",
   "execution_count": 76,
   "metadata": {},
   "outputs": [],
   "source": [
    "import spacy"
   ]
  },
  {
   "cell_type": "code",
   "execution_count": 77,
   "metadata": {},
   "outputs": [],
   "source": [
    "word_model = spacy.load(\"en_core_web_md\")"
   ]
  },
  {
   "cell_type": "code",
   "execution_count": 20,
   "metadata": {},
   "outputs": [
    {
     "data": {
      "text/plain": [
       "(300,)"
      ]
     },
     "execution_count": 20,
     "metadata": {},
     "output_type": "execute_result"
    }
   ],
   "source": [
    "# Word vector for fotball\n",
    "football = word_model(\"football\")\n",
    "football.vector.shape"
   ]
  },
  {
   "cell_type": "code",
   "execution_count": 21,
   "metadata": {},
   "outputs": [
    {
     "data": {
      "text/plain": [
       "(300,)"
      ]
     },
     "execution_count": 21,
     "metadata": {},
     "output_type": "execute_result"
    }
   ],
   "source": [
    "frankfurteria = word_model(\"frankfurteria\")\n",
    "frankfurteria.vector.shape"
   ]
  },
  {
   "cell_type": "code",
   "execution_count": 25,
   "metadata": {},
   "outputs": [
    {
     "data": {
      "text/plain": [
       "array([0., 0., 0., 0., 0., 0., 0., 0., 0., 0., 0., 0., 0., 0., 0., 0., 0.,\n",
       "       0., 0., 0., 0., 0., 0., 0., 0., 0., 0., 0., 0., 0., 0., 0., 0., 0.,\n",
       "       0., 0., 0., 0., 0., 0., 0., 0., 0., 0., 0., 0., 0., 0., 0., 0., 0.,\n",
       "       0., 0., 0., 0., 0., 0., 0., 0., 0., 0., 0., 0., 0., 0., 0., 0., 0.,\n",
       "       0., 0., 0., 0., 0., 0., 0., 0., 0., 0., 0., 0., 0., 0., 0., 0., 0.,\n",
       "       0., 0., 0., 0., 0., 0., 0., 0., 0., 0., 0., 0., 0., 0., 0., 0., 0.,\n",
       "       0., 0., 0., 0., 0., 0., 0., 0., 0., 0., 0., 0., 0., 0., 0., 0., 0.,\n",
       "       0., 0., 0., 0., 0., 0., 0., 0., 0., 0., 0., 0., 0., 0., 0., 0., 0.,\n",
       "       0., 0., 0., 0., 0., 0., 0., 0., 0., 0., 0., 0., 0., 0., 0., 0., 0.,\n",
       "       0., 0., 0., 0., 0., 0., 0., 0., 0., 0., 0., 0., 0., 0., 0., 0., 0.,\n",
       "       0., 0., 0., 0., 0., 0., 0., 0., 0., 0., 0., 0., 0., 0., 0., 0., 0.,\n",
       "       0., 0., 0., 0., 0., 0., 0., 0., 0., 0., 0., 0., 0., 0., 0., 0., 0.,\n",
       "       0., 0., 0., 0., 0., 0., 0., 0., 0., 0., 0., 0., 0., 0., 0., 0., 0.,\n",
       "       0., 0., 0., 0., 0., 0., 0., 0., 0., 0., 0., 0., 0., 0., 0., 0., 0.,\n",
       "       0., 0., 0., 0., 0., 0., 0., 0., 0., 0., 0., 0., 0., 0., 0., 0., 0.,\n",
       "       0., 0., 0., 0., 0., 0., 0., 0., 0., 0., 0., 0., 0., 0., 0., 0., 0.,\n",
       "       0., 0., 0., 0., 0., 0., 0., 0., 0., 0., 0., 0., 0., 0., 0., 0., 0.,\n",
       "       0., 0., 0., 0., 0., 0., 0., 0., 0., 0., 0.], dtype=float32)"
      ]
     },
     "execution_count": 25,
     "metadata": {},
     "output_type": "execute_result"
    }
   ],
   "source": [
    "frankfurteria = word_model(\"frankfurteriaaaaaaaaaaaaaaaaaa\")\n",
    "# If the word is not in the vocabulary, the vector is empty\n",
    "frankfurteria.vector"
   ]
  },
  {
   "cell_type": "code",
   "execution_count": 30,
   "metadata": {},
   "outputs": [
    {
     "data": {
      "text/plain": [
       "True"
      ]
     },
     "execution_count": 30,
     "metadata": {},
     "output_type": "execute_result"
    }
   ],
   "source": [
    "# Check if the word is in the vocabulary\n",
    "word_model(\"flowers\").has_vector"
   ]
  },
  {
   "cell_type": "code",
   "execution_count": 34,
   "metadata": {},
   "outputs": [
    {
     "data": {
      "text/plain": [
       "(300,)"
      ]
     },
     "execution_count": 34,
     "metadata": {},
     "output_type": "execute_result"
    }
   ],
   "source": [
    "sentence = \"I like green eggs and ham\"\n",
    "tokens = word_model(sentence)\n",
    "# The vector for the sentence is the average of the vectors of the words\n",
    "tokens.vector.shape"
   ]
  },
  {
   "cell_type": "code",
   "execution_count": 35,
   "metadata": {},
   "outputs": [
    {
     "data": {
      "text/plain": [
       "0.753202935804182"
      ]
     },
     "execution_count": 35,
     "metadata": {},
     "output_type": "execute_result"
    }
   ],
   "source": [
    "sentence1 = \"I visited Scotland\"\n",
    "sentence2 = \"I went to Edinburgh\"\n",
    "tokens1 = word_model(sentence1)\n",
    "tokens2 = word_model(sentence2)\n",
    "# Similarity between the sentences\n",
    "\n",
    "tokens1.similarity(tokens2)\n",
    "\n",
    "# Similarity is not restricted to just words\n",
    "# It can be between 1 and -1"
   ]
  },
  {
   "cell_type": "code",
   "execution_count": 42,
   "metadata": {},
   "outputs": [
    {
     "data": {
      "text/plain": [
       "0.8737089176208521"
      ]
     },
     "execution_count": 42,
     "metadata": {},
     "output_type": "execute_result"
    }
   ],
   "source": [
    "# Do two very similar sentences\n",
    "sentence1 = \"My name is John\"\n",
    "sentence2 = \"John is my name\"\n",
    "tokens1 = word_model(sentence1)\n",
    "tokens2 = word_model(sentence2)\n",
    "tokens1.similarity(tokens2)"
   ]
  },
  {
   "cell_type": "code",
   "execution_count": 43,
   "metadata": {},
   "outputs": [
    {
     "data": {
      "text/plain": [
       "0.05082912028690282"
      ]
     },
     "execution_count": 43,
     "metadata": {},
     "output_type": "execute_result"
    }
   ],
   "source": [
    "# Do it with two very different sentences\n",
    "sentence1 = \"I visited Scotland\"\n",
    "sentence2 = \"Jump around\"\n",
    "tokens1 = word_model(sentence1)\n",
    "tokens2 = word_model(sentence2)\n",
    "tokens1.similarity(tokens2)"
   ]
  },
  {
   "cell_type": "code",
   "execution_count": 44,
   "metadata": {},
   "outputs": [],
   "source": [
    "sentence1 = \"I visited Scotland\"\n",
    "sentence2 = \"I went to Edinburgh\"\n",
    "\n",
    "# Similarity between the sentences\n",
    "embeddings_1 = word_model(sentence1)\n",
    "embeddings_2 = word_model(sentence2)\n",
    "\n",
    "similarity = embeddings_1.similarity(embeddings_2)\n"
   ]
  },
  {
   "cell_type": "code",
   "execution_count": null,
   "metadata": {},
   "outputs": [],
   "source": [
    "# I play fotball and I like playing soccer the similarity is not 1 because\n",
    "# as it is trained on american data it will not know that fotball and soccer are the same thing"
   ]
  },
  {
   "cell_type": "code",
   "execution_count": 54,
   "metadata": {},
   "outputs": [
    {
     "data": {
      "image/png": "[encoded data removed]",
      "text/plain": [
       "<Figure size 800x600 with 1 Axes>"
      ]
     },
     "metadata": {},
     "output_type": "display_data"
    }
   ],
   "source": [
    "words = [\"cat\", \"dog\", \"tiger\", \"elephant\", \"bird\", \"monkey\", \"lion\", \"cheetah\", \n",
    "            \"burger\", \"pizza\", \"food\", \"cheese\", \"wine\", \"salad\", \n",
    "            \"noodles\", \"fruit\", \"vegetables\"]\n",
    "words_embeddings = [word_model(word) for word in words]\n",
    "\n",
    "# Apply PCA to reduce the dimensionality of the word embeddings\n",
    "from sklearn.decomposition import PCA\n",
    "import numpy as np\n",
    "\n",
    "# Create a matrix with all the word embeddings\n",
    "X = np.array([word.vector for word in words_embeddings])\n",
    "\n",
    "# Apply PCA\n",
    "pca = PCA(n_components=2)\n",
    "X_reduced = pca.fit_transform(X)\n",
    "\n",
    "# Plot the words in 2D\n",
    "import matplotlib.pyplot as plt\n",
    "\n",
    "plt.figure(figsize=(8, 6))\n",
    "plt.scatter(X_reduced[:, 0], X_reduced[:, 1], edgecolor='k', c='r')\n",
    "\n",
    "for i, word in enumerate(words):\n",
    "    plt.text(X_reduced[i, 0], X_reduced[i, 1], word, fontsize=12)\n",
    "\n",
    "plt.show()\n",
    "\n"
   ]
  },
  {
   "cell_type": "code",
   "execution_count": 18,
   "metadata": {},
   "outputs": [],
   "source": [
    "import numpy as np\n",
    "import matplotlib.pyplot as plt"
   ]
  },
  {
   "cell_type": "code",
   "execution_count": 56,
   "metadata": {},
   "outputs": [],
   "source": [
    "equation = lambda x: x**2 + 1\n",
    "equation2 = lambda x: x + 1000\n",
    "#equation = np.vectorize(equation)\n",
    "x = np.linspace(-100, 100, num=100)\n",
    "y = equation(x)\n",
    "y2 = equation2(x)\n",
    "# So by default if some function is applied to numpy arrays it will use numpy vectorize capabilities\n",
    "# If you want to use those capabailities with objects that are not \n",
    "# Numpy arrays you will need to use np.vectorize the function"
   ]
  },
  {
   "cell_type": "code",
   "execution_count": null,
   "metadata": {},
   "outputs": [],
   "source": []
  },
  {
   "cell_type": "code",
   "execution_count": 78,
   "metadata": {},
   "outputs": [
    {
     "data": {
      "image/png": "[encoded data removed]",
      "text/plain": [
       "<Figure size 800x600 with 1 Axes>"
      ]
     },
     "metadata": {},
     "output_type": "display_data"
    }
   ],
   "source": [
    "words = [\"penguin\", \"leopard\", \"oak\", \"maple\", \"tulip\", \"rose\",\n",
    "         \"sushi\", \"omelette\", \"pastry\", \"steak\",\n",
    "         \"sofa\", \"bookshelf\", \"lamp\", \"desk\",\n",
    "         \"sneakers\", \"jacket\", \"scarf\", \"hat\",\n",
    "         \"smartphone\", \"laptop\"]\n",
    "\n",
    "words_embeddings = [word_model(word) for word in words]\n",
    "\n",
    "# Apply PCA to reduce the dimensionality of the word embeddings\n",
    "from sklearn.decomposition import PCA\n",
    "import numpy as np\n",
    "\n",
    "# Create a matrix with all the word embeddings\n",
    "X = np.array([word.vector for word in words_embeddings])\n",
    "\n",
    "# Apply PCA\n",
    "pca = PCA(n_components=2)\n",
    "X_reduced = pca.fit_transform(X)\n",
    "\n",
    "# Plot the words in 2D\n",
    "import matplotlib.pyplot as plt\n",
    "\n",
    "plt.figure(figsize=(8, 6))\n",
    "plt.scatter(X_reduced[:, 0], X_reduced[:, 1], edgecolor='k', c='r')\n",
    "\n",
    "for i, word in enumerate(words):\n",
    "    plt.text(X_reduced[i, 0], X_reduced[i, 1], word, fontsize=12)\n",
    "\n",
    "plt.show()\n"
   ]
  },
  {
   "cell_type": "code",
   "execution_count": 71,
   "metadata": {},
   "outputs": [
    {
     "data": {
      "text/plain": [
       "[(0.51, 'I loved this fragrance: light, floral and feminine'),\n",
       " (0.43, 'I purchased a bottle of wine'),\n",
       " (0.28, 'I purchased a science fiction book last week')]"
      ]
     },
     "execution_count": 71,
     "metadata": {},
     "output_type": "execute_result"
    }
   ],
   "source": [
    "sentences = [\"I purchased a science fiction book last week\", \n",
    "             \"I loved this fragrance: light, floral and feminine\", \n",
    "             \"I purchased a bottle of wine\"]\n",
    "keyword = \"perfume\"\n",
    "\n",
    "sentence_embeddings = [word_model(sentence) for sentence in sentences]\n",
    "keyword_embedding = word_model(keyword)\n",
    "\n",
    "# Compute the similarity between the keyword and the sentences\n",
    "similarities = [(round(keyword_embedding.similarity(embedding), 2),embedding.text)\n",
    "                 for embedding in sentence_embeddings]\n",
    "similarities.sort(reverse=True, key = lambda x: x[0])\n",
    "similarities\n"
   ]
  },
  {
   "cell_type": "code",
   "execution_count": 86,
   "metadata": {},
   "outputs": [],
   "source": [
    "import pandas as pd\n",
    "from nltk.corpus import webtext, stopwords, treebank\n",
    "\n",
    "amazon = pd.read_csv(\"amazon_alexa.tsv\", sep=\"\\t\")"
   ]
  },
  {
   "cell_type": "code",
   "execution_count": null,
   "metadata": {},
   "outputs": [],
   "source": []
  },
  {
   "cell_type": "code",
   "execution_count": 88,
   "metadata": {},
   "outputs": [],
   "source": [
    "stopwords_s = stopwords.words()\n",
    "def preprocess(string):\n",
    "    return \" \".join(word.lower() \n",
    "     for word in str(string).split() if word not in stopwords_s)\n",
    "    "
   ]
  },
  {
   "cell_type": "code",
   "execution_count": 144,
   "metadata": {},
   "outputs": [
    {
     "data": {
      "text/plain": [
       "'\\'love echo!\\' \\'loved it!\\' \\'sometimes playing game, answer question correctly alexa wrong answers you. i turn lights away home.\\' ... \\'i love things, running entire home, tv, lights, thermostat, front dead bolt, cameras... love listening npr. things worth value shine stat adding smart devices control entire home star trek.... i named computer feel... amazing devices smart systems.\\' \"only complaint i sound quality great. i commands though, i dot hooked stereo system play music through. i couple friends dot mind audio quality, bothered kind i\\'d full size echo make hook larger speakers.\" \\'good\\''"
      ]
     },
     "execution_count": 144,
     "metadata": {},
     "output_type": "execute_result"
    }
   ],
   "source": [
    "new"
   ]
  },
  {
   "cell_type": "code",
   "execution_count": 143,
   "metadata": {},
   "outputs": [
    {
     "data": {
      "text/plain": [
       "[\"'love echo!\",\n",
       " 'loved it!',\n",
       " 'sometimes playing game, answer question correctly alexa wrong answers you. i turn lights away home.\\' ... \\'i love things, running entire home, tv, lights, thermostat, front dead bolt, cameras... love listening npr. things worth value shine stat adding smart devices control entire home star trek.... i named computer feel... amazing devices smart systems.\\' \"only complaint i sound quality great. i commands though, i dot hooked stereo system play music through. i couple friends dot mind audio quality, bothered kind i\\'d full size echo make hook larger speakers.\" \\'good\\'']"
      ]
     },
     "execution_count": 143,
     "metadata": {},
     "output_type": "execute_result"
    }
   ],
   "source": [
    "new = preprocess(amazon['verified_reviews'].to_numpy()).strip(\"[]\").__str__()\n",
    "new.split('\\' \\'')"
   ]
  },
  {
   "cell_type": "code",
   "execution_count": 122,
   "metadata": {},
   "outputs": [],
   "source": [
    "amazon['verfied_reviews_curated'] = amazon['verified_reviews'].apply(preprocess)"
   ]
  },
  {
   "cell_type": "code",
   "execution_count": 131,
   "metadata": {},
   "outputs": [],
   "source": [
    "reviews_list = amazon['verfied_reviews_curated'].to_list()\n",
    "review_originals = amazon['verified_reviews']\n",
    "review_embeddings = [(word_model(str(review)), review_original) for review, review_original in zip(reviews_list, review_originals)]\n",
    "word_embeddings = word_model(\"music\")"
   ]
  },
  {
   "cell_type": "code",
   "execution_count": 132,
   "metadata": {},
   "outputs": [
    {
     "name": "stderr",
     "output_type": "stream",
     "text": [
      "C:\\Users\\34644\\AppData\\Local\\Temp\\ipykernel_1800\\1434885714.py:1: UserWarning: [W008] Evaluating Doc.similarity based on empty vectors.\n",
      "  similarities = [(round(word_embeddings.similarity(embedding), 2), review) for embedding, review in review_embeddings]\n"
     ]
    }
   ],
   "source": [
    "similarities = [(round(word_embeddings.similarity(embedding), 2), review) for embedding, review in review_embeddings]"
   ]
  },
  {
   "cell_type": "code",
   "execution_count": 135,
   "metadata": {},
   "outputs": [],
   "source": [
    "# Use filter to get the reviews with a similarity higher than 0.7\n",
    "similar_reviews = list(filter(lambda x: x[0] > 0.5, similarities))\n",
    "similar_reviews.sort(reverse = True)"
   ]
  },
  {
   "cell_type": "code",
   "execution_count": 136,
   "metadata": {},
   "outputs": [
    {
     "data": {
      "text/plain": [
       "[(1.0, 'Music'),\n",
       " (0.8, 'Sound is terrible if u want good music too get a bose'),\n",
       " (0.8, 'Sound is terrible if u want good music too get a bose'),\n",
       " (0.8, 'Clear music'),\n",
       " (0.8, 'Clear music'),\n",
       " (0.78, 'Love the music the stories'),\n",
       " (0.77, 'Music mainly but still checking other features'),\n",
       " (0.74, 'The sound is amazing and many collections of all music'),\n",
       " (0.74, 'The sound is amazing and many collections of all music'),\n",
       " (0.67, 'Great product we listen to music all the time'),\n",
       " (0.65, 'Listen music and set timer'),\n",
       " (0.65, 'Listen music and set timer'),\n",
       " (0.64, 'Love the feature to play music in every room with multiple Echos.'),\n",
       " (0.64, 'Love the feature to play music in every room with multiple Echos.'),\n",
       " (0.63, 'The way the music sounds is poor quality'),\n",
       " (0.63,\n",
       "  'I am really enjoying the many different features on my Alexa, especially listening to music and audio books'),\n",
       " (0.63,\n",
       "  'I am really enjoying the many different features on my Alexa, especially listening to music and audio books'),\n",
       " (0.62,\n",
       "  'This is outstanding works awesome the music sound very clear and loud and Alexa is very smart'),\n",
       " (0.61,\n",
       "  'Love the Echo and how good the music sounds playing off it. Alexa understands most commands but it is difficult at times for her to find specific playlists or songs on Spotify. She is good with Amazon Music but is lacking in other major programs.'),\n",
       " (0.61,\n",
       "  'Love the Echo and how good the music sounds playing off it. Alexa understands most commands but it is difficult at times for her to find specific playlists or songs on Spotify. She is good with Amazon Music but is lacking in other major programs.'),\n",
       " (0.61, 'Love my echo. Love playing music in my room'),\n",
       " (0.61, 'Love my echo. Love playing music in my room'),\n",
       " (0.6,\n",
       "  'Works great, love the fact you can play the same music on a group of devices.'),\n",
       " (0.6,\n",
       "  'Works great, love the fact you can play the same music on a group of devices.'),\n",
       " (0.6,\n",
       "  'I enjoy seeing lyrics on the screen for different Amazon music stations'),\n",
       " (0.6,\n",
       "  'Excellent to listen to my music, my audio books, and look all my cameras in and around my house.'),\n",
       " (0.59,\n",
       "  'Bedroom clock , ask questions,  weather reportsAlarm clock ⏰. Music 🎶 download music'),\n",
       " (0.58, \"it's great for music, a little hard to figure out how it works.\"),\n",
       " (0.58, \"it's great for music, a little hard to figure out how it works.\"),\n",
       " (0.58,\n",
       "  \"Weak sound. Compared to the Google Home Mini the sound is bad. Also you need Prime to have a small selection of music and need prime music to play everything. Also if you get two you need prime family music to play music on both. I think it's lame that you need a family plan to use multiple devices.\"),\n",
       " (0.58,\n",
       "  \"Weak sound. Compared to the Google Home Mini the sound is bad. Also you need Prime to have a small selection of music and need prime music to play everything. Also if you get two you need prime family music to play music on both. I think it's lame that you need a family plan to use multiple devices.\"),\n",
       " (0.58,\n",
       "  'Really like the availability to get instant music throughout the house.'),\n",
       " (0.58,\n",
       "  'Really like the availability to get instant music throughout the house.'),\n",
       " (0.58, 'Love being able to read the lyrics of my favorite songs.'),\n",
       " (0.58,\n",
       "  'Love being able to listen to music easily. Still learning all the features available'),\n",
       " (0.58,\n",
       "  'Love being able to listen to music easily. Still learning all the features available'),\n",
       " (0.58, 'Alarm and music, information the weather'),\n",
       " (0.58, 'Alarm and music, information the weather'),\n",
       " (0.57, 'Using as a hub and music.'),\n",
       " (0.57, \"Love it - am using it strictly for music now and it's great!\"),\n",
       " (0.57, \"Love it - am using it strictly for music now and it's great!\"),\n",
       " (0.57, 'Almost as good as my Bose. Love the whole house music.'),\n",
       " (0.57, 'Almost as good as my Bose. Love the whole house music.'),\n",
       " (0.56, 'Sound is better'),\n",
       " (0.56,\n",
       "  'I am pleased with the Echo Show, from the sound of the music and the words to the tunes to the news and weather. The color on the screen for my photos could be better.'),\n",
       " (0.55,\n",
       "  'Love that you can play music and see the lyrics.  Connected to my echo dot I enjoy listening in multiple rooms.'),\n",
       " (0.54,\n",
       "  'works great but speaker is not the good for music. Will need to get a Bluetooth speaker.'),\n",
       " (0.54,\n",
       "  'works great but speaker is not the good for music. Will need to get a Bluetooth speaker.'),\n",
       " (0.54, 'The music...the shopping list and the sound....'),\n",
       " (0.54,\n",
       "  'The amazon Alexa is so nice to have she wakes me up in the morning with alarms and is great if you have prime because she can do a lot more plays any songs you want her to play and she can even make playlists of your favorite songs i love the Alexa because she has games you can play ad you can watch videos or movie trailers on the screen!'),\n",
       " (0.54,\n",
       "  'Love it to play music works great for finding recipes. Need more family to have adapted machines to see'),\n",
       " (0.53,\n",
       "  'the Sound is fantastic for the Classic  music. is like you have the orchestra at your home. and you can control the sound with out screamig at it you just have to twist the top, but also you can tell  &#34;Alexa volume 3&#34;'),\n",
       " (0.53, 'great sound'),\n",
       " (0.53, 'great sound'),\n",
       " (0.53, 'Kids like it for games.  Showing the lyrics for songs is neat.'),\n",
       " (0.53,\n",
       "  \"I'm really impressed with the sound quality when playing music from this device.  The bass sounds almost like it's coming from a bigger speaker so props to Amazon.\"),\n",
       " (0.53,\n",
       "  \"I'm really impressed with the sound quality when playing music from this device.  The bass sounds almost like it's coming from a bigger speaker so props to Amazon.\"),\n",
       " (0.53, 'I love it , using music and turning on and off light'),\n",
       " (0.53, 'Great sound from a little speaker'),\n",
       " (0.53, 'Great sound from a little speaker'),\n",
       " (0.53, 'Great sound'),\n",
       " (0.52, 'Very intelligent, love the songs ....'),\n",
       " (0.52, 'Very intelligent, love the songs ....'),\n",
       " (0.52,\n",
       "  'I love the option where u can play music everywhere in the house when you have multiple devices'),\n",
       " (0.52,\n",
       "  'I love the option where u can play music everywhere in the house when you have multiple devices'),\n",
       " (0.51,\n",
       "  \"Still getting used to Alexa, don't have her connected to our TV yet or other things right now use her for music and information, which she is great!!\"),\n",
       " (0.51,\n",
       "  \"Still getting used to Alexa, don't have her connected to our TV yet or other things right now use her for music and information, which she is great!!\"),\n",
       " (0.51, 'Love listening to music. Still trying to learn everything it does.'),\n",
       " (0.51, 'Like, all types of fun,music, and more'),\n",
       " (0.51, 'Like, all types of fun,music, and more'),\n",
       " (0.51,\n",
       "  \"I've had previous experience with the echo Dot and this just blows all previous expectations out of the water!It's great since it can play videos and music from multiple sources and the speakers are pretty loud.\"),\n",
       " (0.51, 'Great item for knowledge, directions, music,laughter and more'),\n",
       " (0.51, 'Entertainment'),\n",
       " (0.51, 'Entertainment'),\n",
       " (0.51,\n",
       "  'Amazon Music is great. Love the ability to create my only playlists. Has great sound, not up to the standard of our Bose but very good.')]"
      ]
     },
     "execution_count": 136,
     "metadata": {},
     "output_type": "execute_result"
    }
   ],
   "source": [
    "similar_reviews"
   ]
  }
 ],
 "metadata": {
  "kernelspec": {
   "display_name": "base",
   "language": "python",
   "name": "python3"
  },
  "language_info": {
   "codemirror_mode": {
    "name": "ipython",
    "version": 3
   },
   "file_extension": ".py",
   "mimetype": "text/x-python",
   "name": "python",
   "nbconvert_exporter": "python",
   "pygments_lexer": "ipython3",
   "version": "3.9.13"
  }
 },
 "nbformat": 4,
 "nbformat_minor": 2
}
