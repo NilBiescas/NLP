{
 "cells": [
  {
   "cell_type": "code",
   "execution_count": 1,
   "metadata": {},
   "outputs": [],
   "source": [
    "import spacy\n",
    "from nltk.corpus import stopwords\n",
    "\n",
    "import pandas as pd\n",
    "import plotly.express as px\n",
    "import matplotlib.pyplot as plt\n",
    "\n",
    "from sklearn.decomposition import PCA"
   ]
  },
  {
   "cell_type": "markdown",
   "metadata": {},
   "source": [
    "# Exercise II – Word2vec"
   ]
  },
  {
   "cell_type": "markdown",
   "metadata": {},
   "source": [
    "#### 1-Import spacy library and load the en_core_web_md model"
   ]
  },
  {
   "cell_type": "code",
   "execution_count": 2,
   "metadata": {},
   "outputs": [],
   "source": [
    "# Load the 'en_core_web_md' model\n",
    "word2vec = spacy.load('en_core_web_md')"
   ]
  },
  {
   "cell_type": "markdown",
   "metadata": {},
   "source": [
    "#### 2-Show the word vector for “football”, how long is it?"
   ]
  },
  {
   "cell_type": "code",
   "execution_count": 3,
   "metadata": {},
   "outputs": [
    {
     "name": "stdout",
     "output_type": "stream",
     "text": [
      "[-1.8633e+00  4.2826e+00 -7.1575e-01  1.2353e+00  5.4601e+00  6.0244e+00\n",
      " -2.2204e+00  1.7759e+00  2.5588e+00 -2.0682e+00  4.4509e+00 -2.2267e+00\n",
      " -1.6666e+00 -1.0174e+00 -5.0303e+00  2.4880e+00  4.0848e-01  1.0369e+00\n",
      "  3.4916e+00  3.7098e+00  2.2451e+00 -1.1685e+00 -3.2297e-01 -1.6925e+00\n",
      "  8.3621e-01 -2.6654e-02 -3.7525e+00 -4.9996e-01  5.6734e+00  4.7680e+00\n",
      " -3.7574e+00 -1.4604e-01  5.3413e-01 -5.5588e+00  1.1134e+00  3.0370e+00\n",
      "  6.7387e-01  4.8416e+00 -6.9886e+00 -2.4840e+00  9.1392e-01  3.8642e+00\n",
      "  4.7409e+00 -9.1215e-01 -4.7876e-01 -4.5356e-01 -2.5983e+00 -2.6529e+00\n",
      " -6.0445e+00  6.5456e-01  4.5724e+00  4.7130e+00 -8.7298e-01 -2.4036e+00\n",
      "  1.3543e+00 -2.4419e-02 -1.6746e+00  5.0430e+00 -7.3322e-01  3.2873e+00\n",
      " -8.2850e-01 -1.7169e+00 -1.2998e+00 -5.5582e-01  2.4973e+00  8.2000e-01\n",
      " -5.0912e+00  2.9508e+00 -2.6805e+00  1.6948e+00  2.6353e-01 -5.5573e-01\n",
      " -2.5534e+00 -7.1705e-01  2.5999e+00 -3.8282e-01 -3.7611e+00  7.0098e+00\n",
      " -2.3766e+00 -6.6381e-01 -2.1161e+00 -1.0708e+00 -4.1450e+00  5.5648e-01\n",
      " -1.0478e+00 -7.4927e-01 -1.5616e+00 -3.6242e+00 -4.6307e+00 -5.5283e+00\n",
      " -2.4878e+00 -6.7964e-01  1.3264e+00  3.1103e+00  1.8727e+00 -6.0100e-01\n",
      " -2.3472e+00 -3.4874e+00  2.7148e+00 -1.2601e+00 -4.3567e-01 -3.4389e+00\n",
      "  2.3622e+00  3.6503e+00 -2.4575e+00 -1.9796e+00  6.0322e-01  2.0797e+00\n",
      " -1.8035e+00 -4.4274e+00  2.3084e+00 -2.7899e+00  6.9950e-01  3.3448e+00\n",
      " -4.5086e+00  7.8834e-01 -2.8143e+00  3.3563e+00 -7.8754e-01 -3.2590e+00\n",
      "  4.5830e+00 -2.2982e+00 -1.2508e+00 -2.1720e+00 -5.1245e-01 -2.0756e+00\n",
      "  8.4506e-01  1.5893e-01 -5.7844e-01 -4.4434e+00  2.7362e+00  6.6524e-02\n",
      " -2.5928e-01  1.2195e+00  2.6774e+00 -1.6431e+00 -4.1398e-01  4.0217e+00\n",
      "  1.5040e+00 -2.1736e-01 -7.7106e-01 -1.2891e+00  6.4500e-01  3.7351e+00\n",
      "  7.3104e-01  2.1679e+00 -5.7116e+00 -1.0801e+00  3.3084e-01 -1.0152e+00\n",
      " -9.8290e-02 -1.9523e+00  1.6585e-01 -1.4865e+00  1.4558e-01 -5.6613e-01\n",
      "  3.4737e+00  2.0509e+00 -2.4830e+00 -3.3711e+00 -3.9966e+00 -5.0795e+00\n",
      "  4.5775e+00  3.5888e+00  2.6349e+00  5.8074e-01 -8.7132e-01 -9.4111e-01\n",
      " -2.1549e+00 -1.4002e+00 -6.7431e-01  4.9029e+00 -2.4237e-01  2.2813e+00\n",
      " -5.2433e-01 -7.8507e-01 -3.8141e+00 -2.5267e+00  2.0642e+00  1.4272e+00\n",
      " -7.3799e+00 -6.4456e+00 -1.9389e+00 -2.1175e+00 -7.7891e-01  2.0756e+00\n",
      "  1.3366e+00 -5.7490e+00 -9.9230e-01 -2.0835e+00  1.2286e+00 -4.0169e+00\n",
      "  4.9700e-01 -1.6381e+00  6.3388e+00  1.0795e+00 -2.6706e+00  1.6885e+00\n",
      " -1.8698e+00  6.0973e-01  5.5608e+00 -8.6522e-01  1.2979e+00 -5.1440e+00\n",
      "  5.1053e+00  8.0371e-01 -1.5503e+00  2.6159e+00  9.8151e-01  4.4608e+00\n",
      "  6.8809e-02 -6.6254e+00  1.4723e+00  4.8388e-01  4.0586e+00  2.6173e+00\n",
      " -4.4582e+00  6.5946e-01  2.1617e-01 -3.0539e-01 -2.0776e+00 -1.1613e-01\n",
      " -1.4650e+00  1.5565e+00  5.0127e-01 -1.6182e+00  3.0863e-01  2.0307e+00\n",
      "  6.2631e+00 -1.5563e+00  4.1003e-01  4.4197e-01 -1.3367e+00  1.0021e+00\n",
      "  5.3483e-01  2.0341e+00 -5.3261e-01 -1.3038e+00 -6.6085e+00 -5.6868e+00\n",
      "  1.5515e+00  6.6542e-01 -1.0951e+00  7.2295e+00 -2.3346e+00 -1.1317e+00\n",
      "  4.5930e-01 -1.5124e+00 -8.5653e-01  1.7597e+00 -6.1261e-02  2.8810e+00\n",
      " -5.3807e+00  2.6587e+00  3.6320e+00 -1.0532e+00  3.4469e+00  2.5928e+00\n",
      "  5.2191e+00  1.0547e+00 -2.8317e+00  1.9085e-01  1.1596e+00 -4.9701e+00\n",
      "  2.2907e+00  6.7052e-01 -7.4891e-04  5.0214e+00 -2.2812e+00 -5.3435e-01\n",
      " -1.2789e+00 -6.1212e-01 -3.6433e-01 -4.7859e-01 -1.8287e+00  2.4672e+00\n",
      " -3.8769e-01 -1.3924e+00 -2.1289e+00  4.7772e-01  2.5839e-01  3.7376e-01\n",
      "  9.6236e-02 -1.8036e+00  2.5516e+00 -1.7054e+00  3.0032e+00 -2.0782e+00\n",
      " -1.7003e+00 -3.6575e+00  2.4663e+00 -2.7056e+00 -2.0104e+00  2.9346e+00\n",
      " -2.3386e-01 -1.1868e+00  2.6620e+00 -1.1154e+00 -7.8072e-02  8.8475e-02]\n",
      "Vector dimensions: 300\n"
     ]
    }
   ],
   "source": [
    "# Word football\n",
    "football = word2vec('football')\n",
    "print(football.vector) # Vector of shape (300,)\n",
    "print(\"Vector dimensions: {}\".format(len(football.vector)))"
   ]
  },
  {
   "cell_type": "markdown",
   "metadata": {},
   "source": [
    "#### 3-Show the word vector for “frankfurteria”, how long is it?"
   ]
  },
  {
   "cell_type": "code",
   "execution_count": 4,
   "metadata": {},
   "outputs": [
    {
     "name": "stdout",
     "output_type": "stream",
     "text": [
      "[0. 0. 0. 0. 0. 0. 0. 0. 0. 0. 0. 0. 0. 0. 0. 0. 0. 0. 0. 0. 0. 0. 0. 0.\n",
      " 0. 0. 0. 0. 0. 0. 0. 0. 0. 0. 0. 0. 0. 0. 0. 0. 0. 0. 0. 0. 0. 0. 0. 0.\n",
      " 0. 0. 0. 0. 0. 0. 0. 0. 0. 0. 0. 0. 0. 0. 0. 0. 0. 0. 0. 0. 0. 0. 0. 0.\n",
      " 0. 0. 0. 0. 0. 0. 0. 0. 0. 0. 0. 0. 0. 0. 0. 0. 0. 0. 0. 0. 0. 0. 0. 0.\n",
      " 0. 0. 0. 0. 0. 0. 0. 0. 0. 0. 0. 0. 0. 0. 0. 0. 0. 0. 0. 0. 0. 0. 0. 0.\n",
      " 0. 0. 0. 0. 0. 0. 0. 0. 0. 0. 0. 0. 0. 0. 0. 0. 0. 0. 0. 0. 0. 0. 0. 0.\n",
      " 0. 0. 0. 0. 0. 0. 0. 0. 0. 0. 0. 0. 0. 0. 0. 0. 0. 0. 0. 0. 0. 0. 0. 0.\n",
      " 0. 0. 0. 0. 0. 0. 0. 0. 0. 0. 0. 0. 0. 0. 0. 0. 0. 0. 0. 0. 0. 0. 0. 0.\n",
      " 0. 0. 0. 0. 0. 0. 0. 0. 0. 0. 0. 0. 0. 0. 0. 0. 0. 0. 0. 0. 0. 0. 0. 0.\n",
      " 0. 0. 0. 0. 0. 0. 0. 0. 0. 0. 0. 0. 0. 0. 0. 0. 0. 0. 0. 0. 0. 0. 0. 0.\n",
      " 0. 0. 0. 0. 0. 0. 0. 0. 0. 0. 0. 0. 0. 0. 0. 0. 0. 0. 0. 0. 0. 0. 0. 0.\n",
      " 0. 0. 0. 0. 0. 0. 0. 0. 0. 0. 0. 0. 0. 0. 0. 0. 0. 0. 0. 0. 0. 0. 0. 0.\n",
      " 0. 0. 0. 0. 0. 0. 0. 0. 0. 0. 0. 0.]\n",
      "Vector dimensions: 300\n"
     ]
    }
   ],
   "source": [
    "# Word frankfruteria\n",
    "frankfurteria = word2vec('frankfurteria')\n",
    "print(frankfurteria.vector) # As you can see the word is not in the vocabulary and the vector is 0\n",
    "print(\"Vector dimensions: {}\".format(len(frankfurteria.vector)))\n"
   ]
  },
  {
   "cell_type": "markdown",
   "metadata": {},
   "source": [
    "#### 4-Check whether the word “flowers” is in the model vocabulary"
   ]
  },
  {
   "cell_type": "code",
   "execution_count": 5,
   "metadata": {},
   "outputs": [
    {
     "name": "stdout",
     "output_type": "stream",
     "text": [
      "The word 'flowers' is in the vocabulary\n"
     ]
    }
   ],
   "source": [
    "if (word2vec('flowers').has_vector):\n",
    "    print(\"The word 'flowers' is in the vocabulary\")\n",
    "else:\n",
    "    print(\"The word 'flowers' is not in the vocabulary\")"
   ]
  },
  {
   "cell_type": "markdown",
   "metadata": {},
   "source": [
    "#### 5-Create a sentence including the word ”football”, and show the sentence vector"
   ]
  },
  {
   "cell_type": "code",
   "execution_count": 6,
   "metadata": {},
   "outputs": [
    {
     "name": "stdout",
     "output_type": "stream",
     "text": [
      "Sentence vector: [-5.55833340e-01  4.04913336e-01 -3.53155017e+00 -4.51553297e+00\n",
      " -3.77913976e+00  1.58433342e+00  1.28319991e+00  3.38106656e+00\n",
      " -3.89406657e+00  4.48296642e+00  5.13333368e+00  1.95733309e-01\n",
      " -3.15857315e+00 -1.55793333e+00  2.26729989e+00 -2.49020004e+00\n",
      "  1.30357993e+00 -5.25729990e+00 -6.90733254e-01  2.75573325e+00\n",
      "  3.37370324e+00  2.10026670e+00  2.22043231e-01 -7.20009995e+00\n",
      "  3.02003294e-01 -1.65274799e+00 -1.69303334e+00  2.47341323e+00\n",
      "  5.95900059e-01  2.66406655e+00 -1.72683334e+00 -4.20704651e+00\n",
      " -5.58856666e-01  3.11766624e-01  3.19316673e+00 -8.46833363e-02\n",
      " -1.83684337e+00  1.30797994e+00  9.42366600e-01 -7.59243965e-01\n",
      " -1.61022675e+00  5.06069994e+00  2.45688653e+00 -3.23515010e+00\n",
      "  2.96348000e+00  3.08211327e+00 -4.37366676e+00 -4.18766642e+00\n",
      " -8.07310045e-01  2.68785310e+00  2.23870015e+00 -1.31556690e+00\n",
      " -1.34566650e-01 -3.27453327e+00 -1.72575033e+00 -1.27696967e+00\n",
      "  8.27843189e-01  3.01980019e+00  2.86379337e+00  4.27963305e+00\n",
      "  5.36420012e+00 -2.24679661e+00 -2.40500018e-01 -2.58733425e-02\n",
      " -2.81872344e+00  1.89000163e-02 -3.10844612e+00 -2.02696681e+00\n",
      "  1.80510008e+00  4.46659994e+00  1.63209990e-01  3.16419005e+00\n",
      "  1.20896661e+00 -1.95049667e+00  4.91426706e+00  1.82505989e+00\n",
      " -3.72433352e+00  1.91443336e+00 -1.80706656e+00 -5.25236988e+00\n",
      " -2.06783319e+00 -6.86133325e-01  4.32266665e+00 -3.43270683e+00\n",
      " -4.38156538e-02 -8.01973343e-01 -4.45499986e-01  5.73966563e-01\n",
      " -3.64389992e+00 -5.24103308e+00 -9.12933350e-01  7.84466684e-01\n",
      "  3.37986660e+00 -5.17290068e+00 -6.22139990e-01 -2.74366665e+00\n",
      " -1.30889967e-01 -4.76359987e+00  1.27829993e+00 -2.25546670e+00\n",
      "  7.50530005e-01  2.32126689e+00 -1.99133549e-02  2.83010364e+00\n",
      " -4.18541336e+00 -7.38664484e-03 -2.57869339e+00  2.94703364e+00\n",
      " -3.36493325e+00 -1.08383334e+00 -8.15666541e-02 -5.91519976e+00\n",
      "  3.63682652e+00 -5.63666642e-01 -8.04333687e-02  1.27586997e+00\n",
      " -3.24196696e+00 -2.74623322e+00 -3.36513370e-01 -5.41100025e-01\n",
      " -1.38543320e+00 -4.47999984e-01 -5.27306652e+00  2.42674994e+00\n",
      " -5.50996602e-01  1.75972688e+00  3.90462017e+00 -1.72738993e+00\n",
      " -1.53129005e+00 -2.29577327e+00 -7.22866058e-02  1.94104147e+00\n",
      " -1.49305677e+00 -1.71103990e+00 -1.68543264e-01  2.17070007e+00\n",
      " -4.17325974e+00 -9.05080020e-01  5.91470003e+00 -4.07851982e+00\n",
      " -1.99325335e+00  4.58699912e-01  3.03130031e+00  2.22573352e+00\n",
      " -6.53542948e+00 -3.95566702e-01 -1.29706669e+00 -6.89826667e-01\n",
      " -4.50821972e+00 -3.99325299e+00 -2.55450988e+00 -8.28599930e-01\n",
      " -2.77688313e+00 -2.85630012e+00 -1.29440665e+00  2.06065655e+00\n",
      "  3.57598305e+00  1.31013668e+00 -1.92630005e+00 -1.03719997e+00\n",
      " -2.23768330e+00 -6.39913368e+00 -2.26453352e+00  1.96750009e+00\n",
      " -4.21899147e-02  1.56722009e+00 -5.83233424e-02 -1.65375340e+00\n",
      " -4.53123331e+00  2.18733266e-01  2.20953012e+00  9.48116779e-01\n",
      " -2.37325692e+00  2.72333336e+00  4.29278994e+00 -6.35722351e+00\n",
      " -3.84333348e+00 -5.40566742e-01  2.95743299e+00  1.14233375e-01\n",
      " -2.44139981e+00 -2.36769986e+00  4.87630033e+00 -1.42325342e+00\n",
      " -1.89523685e+00  4.92890024e+00  1.17306995e+00 -6.09846687e+00\n",
      "  3.04996681e+00  2.75710011e+00 -6.41326666e-01  2.28916669e+00\n",
      " -3.27703357e+00  1.34459984e+00  1.31299996e+00 -1.45420015e+00\n",
      " -5.64569998e+00  2.90876675e+00 -3.84939981e+00  4.32104349e+00\n",
      "  3.45933437e-01 -7.13039935e-01 -3.06793308e+00 -1.06113338e+00\n",
      " -1.98663330e+00 -9.15329933e-01  4.17748690e+00 -4.30333287e-01\n",
      " -4.40052986e-01 -2.56733268e-01  7.73979664e-01 -2.33602667e+00\n",
      "  3.73693347e+00  2.38645005e+00 -1.58459997e+00  2.61549997e+00\n",
      " -4.91449976e+00  3.01285338e+00  2.39523351e-01 -2.78629988e-01\n",
      " -1.14763343e+00  8.44166577e-02 -1.34023333e+00  5.65176630e+00\n",
      "  1.48802328e+00 -2.41629982e+00 -8.39053392e-01  1.63317013e+00\n",
      "  4.57618666e+00  8.96266639e-01 -7.52349043e+00 -3.49867654e+00\n",
      "  1.01346672e+00 -2.32376671e+00 -1.51548660e+00  1.64934003e+00\n",
      " -4.82060337e+00  5.89006615e+00 -2.15477705e+00 -4.07710314e+00\n",
      " -5.52968359e+00 -1.73105991e+00  1.65853322e+00  2.89075661e+00\n",
      "  3.25483322e+00 -2.86246681e+00  6.35266602e-01 -1.79231012e+00\n",
      "  5.36642408e+00  2.18745661e+00 -2.94148707e+00  4.64926672e+00\n",
      " -6.14893341e+00  9.65199947e-01  5.58999956e-01 -2.77324319e+00\n",
      " -5.99566638e-01  2.31960011e+00 -3.24053311e+00  3.44600010e+00\n",
      "  1.84956682e+00  1.30556333e+00  3.10170007e+00  5.17249882e-01\n",
      "  4.03173304e+00 -2.53879333e+00  8.07783782e-01  1.95457137e+00\n",
      " -5.17133331e+00  1.82068002e+00 -1.13332672e-02 -1.78704011e+00\n",
      " -5.63857651e+00  5.31986713e-01 -3.37916660e+00 -2.01099947e-01\n",
      "  1.91951001e+00 -5.32333326e+00 -2.63200045e-01  1.51901662e+00\n",
      " -6.36940336e+00 -3.66387677e+00  2.19527888e+00 -6.35099784e-02\n",
      "  3.59216690e+00 -1.31669998e+00  1.78443336e+00  8.01466703e-01\n",
      " -3.18046665e+00  1.65833235e-01  4.60506678e+00  3.29499960e-01\n",
      "  5.93046725e-01 -1.95610011e+00 -1.64325893e+00 -1.61472988e+00\n",
      "  3.41774344e+00  3.94246674e+00 -6.72642374e+00  9.75058258e-01]\n"
     ]
    }
   ],
   "source": [
    "# Creating a sentence with the word football\n",
    "sentence = \"I love football\"\n",
    "sentence = word2vec(sentence)\n",
    "print(\"Sentence vector: {}\".format(sentence.vector))"
   ]
  },
  {
   "cell_type": "markdown",
   "metadata": {},
   "source": [
    "#### 6-How long is the sentence vector? How is it calculated?\n",
    "\n",
    "The sentence vector is the average of the word vectors"
   ]
  },
  {
   "cell_type": "code",
   "execution_count": 7,
   "metadata": {},
   "outputs": [
    {
     "name": "stdout",
     "output_type": "stream",
     "text": [
      "Vector dimensions: 300\n"
     ]
    }
   ],
   "source": [
    "print(\"Vector dimensions: {}\".format(len(sentence.vector)))"
   ]
  },
  {
   "cell_type": "markdown",
   "metadata": {},
   "source": [
    "# Exercise III – Similarity"
   ]
  },
  {
   "cell_type": "markdown",
   "metadata": {},
   "source": [
    "#### 1 and 2-Define the two utterances “I visited Scotland” and “I went to Edinburgh” and compute the similaritry:"
   ]
  },
  {
   "cell_type": "code",
   "execution_count": 8,
   "metadata": {},
   "outputs": [
    {
     "name": "stdout",
     "output_type": "stream",
     "text": [
      "0.753202935804182\n"
     ]
    }
   ],
   "source": [
    "sentence1 = \"I visited Scotland\"\n",
    "sentence2 = \"I went to Edinburgh\"\n",
    "sentence1 = word2vec(sentence1)\n",
    "sentence2 = word2vec(sentence2)\n",
    "\n",
    "# Compute the similarity between the two sentences\n",
    "similarity = sentence1.similarity(sentence2)\n",
    "print(similarity)"
   ]
  },
  {
   "cell_type": "markdown",
   "metadata": {},
   "source": [
    "#### Define two similar sentences and calculate their similarity:"
   ]
  },
  {
   "cell_type": "code",
   "execution_count": 10,
   "metadata": {},
   "outputs": [
    {
     "name": "stdout",
     "output_type": "stream",
     "text": [
      "0.9164728015542848\n"
     ]
    }
   ],
   "source": [
    "# Two similar sentences different from the previous ones\n",
    "sentence1 = \"I went on a vacation to the beach\"\n",
    "sentence2 = \"I will go to the beach on the holidays\"\n",
    "sentence1 = word2vec(sentence1)\n",
    "sentence2 = word2vec(sentence2)\n",
    "\n",
    "# Compute the similarity between the two sentences\n",
    "similarity = sentence1.similarity(sentence2)\n",
    "print(similarity)"
   ]
  },
  {
   "cell_type": "markdown",
   "metadata": {},
   "source": [
    "#### Define two very different sentences and calculate their similarity"
   ]
  },
  {
   "cell_type": "code",
   "execution_count": 11,
   "metadata": {},
   "outputs": [
    {
     "name": "stdout",
     "output_type": "stream",
     "text": [
      "0.4596957788886094\n"
     ]
    }
   ],
   "source": [
    "# Two non similar sentences\n",
    "sentence1 = \"I will go to the beach on the holidays\"\n",
    "sentence2 = \"The weather was nice yesterday\"\n",
    "sentence1 = word2vec(sentence1)\n",
    "sentence2 = word2vec(sentence2)\n",
    "\n",
    "# Compute the similarity between the two sentences\n",
    "similarity = sentence1.similarity(sentence2)\n",
    "print(similarity)"
   ]
  },
  {
   "cell_type": "markdown",
   "metadata": {},
   "source": [
    "#### 3, 4 and 5-Consider the following words [cat, dog, tiger, elephant, bird, monkey, lion, cheetah, burger, pizza, food, cheese, wine, salad, noodles, fruit, vegetables], calculate the word vector for every word and Apply a PCA, consider the first two components, and represent the words in the feature space"
   ]
  },
  {
   "cell_type": "code",
   "execution_count": 19,
   "metadata": {},
   "outputs": [
    {
     "data": {
      "image/png": "[encoded data removed]",
      "text/plain": [
       "<Figure size 1000x1000 with 1 Axes>"
      ]
     },
     "metadata": {},
     "output_type": "display_data"
    }
   ],
   "source": [
    "words = ['cat', 'dog', 'tiger', 'elephant', 'bird', 'monkey', 'lion', 'cheetah', 'burger', 'pizza', 'food', 'cheese', 'wine', 'salad', 'noodles', 'fruit', 'vegetables']\n",
    "\n",
    "# Computing the vector of each word\n",
    "word_vectors = [word2vec(word).vector for word in words]\n",
    "\n",
    "# Applying PCA to reduce the dimensionality of the word vectors to 2\n",
    "pca = PCA(n_components=2)\n",
    "word_vec_2d = pca.fit_transform(word_vectors)\n",
    "\n",
    "# Plotting the 2D word vectors\n",
    "plt.figure(figsize=(10, 10))\n",
    "for i, word in enumerate(words):\n",
    "    plt.scatter(word_vec_2d[i:, 0], word_vec_2d[i:, 1], s=100)\n",
    "    plt.text(word_vec_2d[i, 0], word_vec_2d[i, 1], word)\n",
    "    plt.legend(words, bbox_to_anchor=(1.05, 1), loc='upper left')\n",
    "    plt.title('Word vectors in 2D')\n",
    "plt.show()"
   ]
  },
  {
   "cell_type": "markdown",
   "metadata": {},
   "source": [
    "#### Define a new set of words (at least 20 different words), and represent them in the feature space"
   ]
  },
  {
   "cell_type": "code",
   "execution_count": 21,
   "metadata": {},
   "outputs": [
    {
     "data": {
      "image/png": "[encoded data removed]",
      "text/plain": [
       "<Figure size 1000x1000 with 1 Axes>"
      ]
     },
     "metadata": {},
     "output_type": "display_data"
    }
   ],
   "source": [
    "# Defining a new set of words\n",
    "words = [\"penguin\", \"leopard\", \"oak\", \"maple\", \"tulip\", \"rose\",\n",
    "         \"sushi\", \"omelette\", \"pastry\", \"steak\",\n",
    "         \"sofa\", \"bookshelf\", \"lamp\", \"desk\",\n",
    "         \"sneakers\", \"jacket\", \"scarf\", \"hat\",\n",
    "         \"smartphone\", \"laptop\"]\n",
    "\n",
    "# Computing the vector of each word\n",
    "words_vector = [word2vec(word).vector for word in words]\n",
    "\n",
    "# Applying PCA to reduce the dimensionality of the word vectors to 2\n",
    "pca = PCA(n_components=2)\n",
    "principalComponents = pca.fit_transform(words_vector)\n",
    "\n",
    "# Plotting the 2D word vectors\n",
    "plt.figure(figsize=(10, 10))\n",
    "for i, word in enumerate(words):\n",
    "    plt.scatter(principalComponents[i:, 0], principalComponents[i:, 1], s=100)\n",
    "    plt.text(principalComponents[i, 0], principalComponents[i, 1], word)\n",
    "    plt.legend(words, bbox_to_anchor=(1.05, 1), loc='upper left')\n",
    "    plt.title('Word vectors in 2D')\n",
    "plt.show()\n"
   ]
  },
  {
   "cell_type": "code",
   "execution_count": 23,
   "metadata": {},
   "outputs": [
    {
     "data": {
      "application/vnd.plotly.v1+json": {
       "config": {
        "plotlyServerURL": "https://plot.ly"
       },
       "data": [
        {
         "hovertemplate": "x=%{x}<br>y=%{y}<br>z=%{z}<br>word=%{text}<extra></extra>",
         "legendgroup": "",
         "marker": {
          "color": "#636efa",
          "symbol": "circle"
         },
         "mode": "markers+text",
         "name": "",
         "scene": "scene",
         "showlegend": false,
         "text": [
          "penguin",
          "leopard",
          "oak",
          "maple",
          "tulip",
          "rose",
          "sushi",
          "omelette",
          "pastry",
          "steak",
          "sofa",
          "bookshelf",
          "lamp",
          "desk",
          "sneakers",
          "jacket",
          "scarf",
          "hat",
          "smartphone",
          "laptop"
         ],
         "textposition": "top center",
         "type": "scatter3d",
         "x": [
          -1.1870643471676232,
          -0.5505194976097921,
          57.422982132303765,
          22.92603664817353,
          13.502206617971002,
          18.264520893558537,
          1.3425609562797844,
          -1.0817415591395347,
          1.7001593671198245,
          5.0362533226329695,
          -3.0333344622111515,
          -7.264463262615946,
          -2.3515072656540337,
          -12.08483212280842,
          -15.97802525786552,
          -13.468112610283,
          -12.353945211921983,
          -28.17101823509366,
          -9.476876183410964,
          -13.193279922257815
         ],
         "y": [
          0.9265128095058862,
          2.2653064112445755,
          16.376194389052067,
          2.5278475221766,
          3.943331230020093,
          5.882783329699309,
          -12.908471175351822,
          -7.421092713670778,
          -11.611173297707051,
          -8.598097016417734,
          -2.0086559119862106,
          -28.82036131908909,
          2.717330620756672,
          -11.386157950105417,
          8.825245953782446,
          10.953152591883539,
          12.768099299238607,
          47.841556414170476,
          -16.889804847660418,
          -15.38354633954177
         ],
         "z": [
          -12.992060115394052,
          -14.08014392802595,
          19.599901857538384,
          -2.7098489561155277,
          -4.895380547283222,
          -11.301565865940395,
          -18.82363066103443,
          -12.26608992680485,
          -16.220481817360408,
          -18.044529820938912,
          22.34054768404504,
          3.290577374658583,
          18.53751927633571,
          32.65493367054689,
          3.225825508981433,
          1.5453197271261758,
          -3.3572493445580607,
          -3.031299293781474,
          2.6560293362210547,
          13.871625841783988
         ]
        }
       ],
       "layout": {
        "legend": {
         "tracegroupgap": 0
        },
        "margin": {
         "t": 60
        },
        "scene": {
         "domain": {
          "x": [
           0,
           1
          ],
          "y": [
           0,
           1
          ]
         },
         "xaxis": {
          "title": {
           "text": "x"
          }
         },
         "yaxis": {
          "title": {
           "text": "y"
          }
         },
         "zaxis": {
          "title": {
           "text": "z"
          }
         }
        },
        "template": {
         "data": {
          "bar": [
           {
            "error_x": {
             "color": "#2a3f5f"
            },
            "error_y": {
             "color": "#2a3f5f"
            },
            "marker": {
             "line": {
              "color": "#E5ECF6",
              "width": 0.5
             },
             "pattern": {
              "fillmode": "overlay",
              "size": 10,
              "solidity": 0.2
             }
            },
            "type": "bar"
           }
          ],
          "barpolar": [
           {
            "marker": {
             "line": {
              "color": "#E5ECF6",
              "width": 0.5
             },
             "pattern": {
              "fillmode": "overlay",
              "size": 10,
              "solidity": 0.2
             }
            },
            "type": "barpolar"
           }
          ],
          "carpet": [
           {
            "aaxis": {
             "endlinecolor": "#2a3f5f",
             "gridcolor": "white",
             "linecolor": "white",
             "minorgridcolor": "white",
             "startlinecolor": "#2a3f5f"
            },
            "baxis": {
             "endlinecolor": "#2a3f5f",
             "gridcolor": "white",
             "linecolor": "white",
             "minorgridcolor": "white",
             "startlinecolor": "#2a3f5f"
            },
            "type": "carpet"
           }
          ],
          "choropleth": [
           {
            "colorbar": {
             "outlinewidth": 0,
             "ticks": ""
            },
            "type": "choropleth"
           }
          ],
          "contour": [
           {
            "colorbar": {
             "outlinewidth": 0,
             "ticks": ""
            },
            "colorscale": [
             [
              0,
              "#0d0887"
             ],
             [
              0.1111111111111111,
              "#46039f"
             ],
             [
              0.2222222222222222,
              "#7201a8"
             ],
             [
              0.3333333333333333,
              "#9c179e"
             ],
             [
              0.4444444444444444,
              "#bd3786"
             ],
             [
              0.5555555555555556,
              "#d8576b"
             ],
             [
              0.6666666666666666,
              "#ed7953"
             ],
             [
              0.7777777777777778,
              "#fb9f3a"
             ],
             [
              0.8888888888888888,
              "#fdca26"
             ],
             [
              1,
              "#f0f921"
             ]
            ],
            "type": "contour"
           }
          ],
          "contourcarpet": [
           {
            "colorbar": {
             "outlinewidth": 0,
             "ticks": ""
            },
            "type": "contourcarpet"
           }
          ],
          "heatmap": [
           {
            "colorbar": {
             "outlinewidth": 0,
             "ticks": ""
            },
            "colorscale": [
             [
              0,
              "#0d0887"
             ],
             [
              0.1111111111111111,
              "#46039f"
             ],
             [
              0.2222222222222222,
              "#7201a8"
             ],
             [
              0.3333333333333333,
              "#9c179e"
             ],
             [
              0.4444444444444444,
              "#bd3786"
             ],
             [
              0.5555555555555556,
              "#d8576b"
             ],
             [
              0.6666666666666666,
              "#ed7953"
             ],
             [
              0.7777777777777778,
              "#fb9f3a"
             ],
             [
              0.8888888888888888,
              "#fdca26"
             ],
             [
              1,
              "#f0f921"
             ]
            ],
            "type": "heatmap"
           }
          ],
          "heatmapgl": [
           {
            "colorbar": {
             "outlinewidth": 0,
             "ticks": ""
            },
            "colorscale": [
             [
              0,
              "#0d0887"
             ],
             [
              0.1111111111111111,
              "#46039f"
             ],
             [
              0.2222222222222222,
              "#7201a8"
             ],
             [
              0.3333333333333333,
              "#9c179e"
             ],
             [
              0.4444444444444444,
              "#bd3786"
             ],
             [
              0.5555555555555556,
              "#d8576b"
             ],
             [
              0.6666666666666666,
              "#ed7953"
             ],
             [
              0.7777777777777778,
              "#fb9f3a"
             ],
             [
              0.8888888888888888,
              "#fdca26"
             ],
             [
              1,
              "#f0f921"
             ]
            ],
            "type": "heatmapgl"
           }
          ],
          "histogram": [
           {
            "marker": {
             "pattern": {
              "fillmode": "overlay",
              "size": 10,
              "solidity": 0.2
             }
            },
            "type": "histogram"
           }
          ],
          "histogram2d": [
           {
            "colorbar": {
             "outlinewidth": 0,
             "ticks": ""
            },
            "colorscale": [
             [
              0,
              "#0d0887"
             ],
             [
              0.1111111111111111,
              "#46039f"
             ],
             [
              0.2222222222222222,
              "#7201a8"
             ],
             [
              0.3333333333333333,
              "#9c179e"
             ],
             [
              0.4444444444444444,
              "#bd3786"
             ],
             [
              0.5555555555555556,
              "#d8576b"
             ],
             [
              0.6666666666666666,
              "#ed7953"
             ],
             [
              0.7777777777777778,
              "#fb9f3a"
             ],
             [
              0.8888888888888888,
              "#fdca26"
             ],
             [
              1,
              "#f0f921"
             ]
            ],
            "type": "histogram2d"
           }
          ],
          "histogram2dcontour": [
           {
            "colorbar": {
             "outlinewidth": 0,
             "ticks": ""
            },
            "colorscale": [
             [
              0,
              "#0d0887"
             ],
             [
              0.1111111111111111,
              "#46039f"
             ],
             [
              0.2222222222222222,
              "#7201a8"
             ],
             [
              0.3333333333333333,
              "#9c179e"
             ],
             [
              0.4444444444444444,
              "#bd3786"
             ],
             [
              0.5555555555555556,
              "#d8576b"
             ],
             [
              0.6666666666666666,
              "#ed7953"
             ],
             [
              0.7777777777777778,
              "#fb9f3a"
             ],
             [
              0.8888888888888888,
              "#fdca26"
             ],
             [
              1,
              "#f0f921"
             ]
            ],
            "type": "histogram2dcontour"
           }
          ],
          "mesh3d": [
           {
            "colorbar": {
             "outlinewidth": 0,
             "ticks": ""
            },
            "type": "mesh3d"
           }
          ],
          "parcoords": [
           {
            "line": {
             "colorbar": {
              "outlinewidth": 0,
              "ticks": ""
             }
            },
            "type": "parcoords"
           }
          ],
          "pie": [
           {
            "automargin": true,
            "type": "pie"
           }
          ],
          "scatter": [
           {
            "fillpattern": {
             "fillmode": "overlay",
             "size": 10,
             "solidity": 0.2
            },
            "type": "scatter"
           }
          ],
          "scatter3d": [
           {
            "line": {
             "colorbar": {
              "outlinewidth": 0,
              "ticks": ""
             }
            },
            "marker": {
             "colorbar": {
              "outlinewidth": 0,
              "ticks": ""
             }
            },
            "type": "scatter3d"
           }
          ],
          "scattercarpet": [
           {
            "marker": {
             "colorbar": {
              "outlinewidth": 0,
              "ticks": ""
             }
            },
            "type": "scattercarpet"
           }
          ],
          "scattergeo": [
           {
            "marker": {
             "colorbar": {
              "outlinewidth": 0,
              "ticks": ""
             }
            },
            "type": "scattergeo"
           }
          ],
          "scattergl": [
           {
            "marker": {
             "colorbar": {
              "outlinewidth": 0,
              "ticks": ""
             }
            },
            "type": "scattergl"
           }
          ],
          "scattermapbox": [
           {
            "marker": {
             "colorbar": {
              "outlinewidth": 0,
              "ticks": ""
             }
            },
            "type": "scattermapbox"
           }
          ],
          "scatterpolar": [
           {
            "marker": {
             "colorbar": {
              "outlinewidth": 0,
              "ticks": ""
             }
            },
            "type": "scatterpolar"
           }
          ],
          "scatterpolargl": [
           {
            "marker": {
             "colorbar": {
              "outlinewidth": 0,
              "ticks": ""
             }
            },
            "type": "scatterpolargl"
           }
          ],
          "scatterternary": [
           {
            "marker": {
             "colorbar": {
              "outlinewidth": 0,
              "ticks": ""
             }
            },
            "type": "scatterternary"
           }
          ],
          "surface": [
           {
            "colorbar": {
             "outlinewidth": 0,
             "ticks": ""
            },
            "colorscale": [
             [
              0,
              "#0d0887"
             ],
             [
              0.1111111111111111,
              "#46039f"
             ],
             [
              0.2222222222222222,
              "#7201a8"
             ],
             [
              0.3333333333333333,
              "#9c179e"
             ],
             [
              0.4444444444444444,
              "#bd3786"
             ],
             [
              0.5555555555555556,
              "#d8576b"
             ],
             [
              0.6666666666666666,
              "#ed7953"
             ],
             [
              0.7777777777777778,
              "#fb9f3a"
             ],
             [
              0.8888888888888888,
              "#fdca26"
             ],
             [
              1,
              "#f0f921"
             ]
            ],
            "type": "surface"
           }
          ],
          "table": [
           {
            "cells": {
             "fill": {
              "color": "#EBF0F8"
             },
             "line": {
              "color": "white"
             }
            },
            "header": {
             "fill": {
              "color": "#C8D4E3"
             },
             "line": {
              "color": "white"
             }
            },
            "type": "table"
           }
          ]
         },
         "layout": {
          "annotationdefaults": {
           "arrowcolor": "#2a3f5f",
           "arrowhead": 0,
           "arrowwidth": 1
          },
          "autotypenumbers": "strict",
          "coloraxis": {
           "colorbar": {
            "outlinewidth": 0,
            "ticks": ""
           }
          },
          "colorscale": {
           "diverging": [
            [
             0,
             "#8e0152"
            ],
            [
             0.1,
             "#c51b7d"
            ],
            [
             0.2,
             "#de77ae"
            ],
            [
             0.3,
             "#f1b6da"
            ],
            [
             0.4,
             "#fde0ef"
            ],
            [
             0.5,
             "#f7f7f7"
            ],
            [
             0.6,
             "#e6f5d0"
            ],
            [
             0.7,
             "#b8e186"
            ],
            [
             0.8,
             "#7fbc41"
            ],
            [
             0.9,
             "#4d9221"
            ],
            [
             1,
             "#276419"
            ]
           ],
           "sequential": [
            [
             0,
             "#0d0887"
            ],
            [
             0.1111111111111111,
             "#46039f"
            ],
            [
             0.2222222222222222,
             "#7201a8"
            ],
            [
             0.3333333333333333,
             "#9c179e"
            ],
            [
             0.4444444444444444,
             "#bd3786"
            ],
            [
             0.5555555555555556,
             "#d8576b"
            ],
            [
             0.6666666666666666,
             "#ed7953"
            ],
            [
             0.7777777777777778,
             "#fb9f3a"
            ],
            [
             0.8888888888888888,
             "#fdca26"
            ],
            [
             1,
             "#f0f921"
            ]
           ],
           "sequentialminus": [
            [
             0,
             "#0d0887"
            ],
            [
             0.1111111111111111,
             "#46039f"
            ],
            [
             0.2222222222222222,
             "#7201a8"
            ],
            [
             0.3333333333333333,
             "#9c179e"
            ],
            [
             0.4444444444444444,
             "#bd3786"
            ],
            [
             0.5555555555555556,
             "#d8576b"
            ],
            [
             0.6666666666666666,
             "#ed7953"
            ],
            [
             0.7777777777777778,
             "#fb9f3a"
            ],
            [
             0.8888888888888888,
             "#fdca26"
            ],
            [
             1,
             "#f0f921"
            ]
           ]
          },
          "colorway": [
           "#636efa",
           "#EF553B",
           "#00cc96",
           "#ab63fa",
           "#FFA15A",
           "#19d3f3",
           "#FF6692",
           "#B6E880",
           "#FF97FF",
           "#FECB52"
          ],
          "font": {
           "color": "#2a3f5f"
          },
          "geo": {
           "bgcolor": "white",
           "lakecolor": "white",
           "landcolor": "#E5ECF6",
           "showlakes": true,
           "showland": true,
           "subunitcolor": "white"
          },
          "hoverlabel": {
           "align": "left"
          },
          "hovermode": "closest",
          "mapbox": {
           "style": "light"
          },
          "paper_bgcolor": "white",
          "plot_bgcolor": "#E5ECF6",
          "polar": {
           "angularaxis": {
            "gridcolor": "white",
            "linecolor": "white",
            "ticks": ""
           },
           "bgcolor": "#E5ECF6",
           "radialaxis": {
            "gridcolor": "white",
            "linecolor": "white",
            "ticks": ""
           }
          },
          "scene": {
           "xaxis": {
            "backgroundcolor": "#E5ECF6",
            "gridcolor": "white",
            "gridwidth": 2,
            "linecolor": "white",
            "showbackground": true,
            "ticks": "",
            "zerolinecolor": "white"
           },
           "yaxis": {
            "backgroundcolor": "#E5ECF6",
            "gridcolor": "white",
            "gridwidth": 2,
            "linecolor": "white",
            "showbackground": true,
            "ticks": "",
            "zerolinecolor": "white"
           },
           "zaxis": {
            "backgroundcolor": "#E5ECF6",
            "gridcolor": "white",
            "gridwidth": 2,
            "linecolor": "white",
            "showbackground": true,
            "ticks": "",
            "zerolinecolor": "white"
           }
          },
          "shapedefaults": {
           "line": {
            "color": "#2a3f5f"
           }
          },
          "ternary": {
           "aaxis": {
            "gridcolor": "white",
            "linecolor": "white",
            "ticks": ""
           },
           "baxis": {
            "gridcolor": "white",
            "linecolor": "white",
            "ticks": ""
           },
           "bgcolor": "#E5ECF6",
           "caxis": {
            "gridcolor": "white",
            "linecolor": "white",
            "ticks": ""
           }
          },
          "title": {
           "x": 0.05
          },
          "xaxis": {
           "automargin": true,
           "gridcolor": "white",
           "linecolor": "white",
           "ticks": "",
           "title": {
            "standoff": 15
           },
           "zerolinecolor": "white",
           "zerolinewidth": 2
          },
          "yaxis": {
           "automargin": true,
           "gridcolor": "white",
           "linecolor": "white",
           "ticks": "",
           "title": {
            "standoff": 15
           },
           "zerolinecolor": "white",
           "zerolinewidth": 2
          }
         }
        },
        "title": {
         "text": "Word vectors in 3D"
        }
       }
      }
     },
     "metadata": {},
     "output_type": "display_data"
    }
   ],
   "source": [
    "# Applying PCA to reduce the dimensionality of the word vectors to 3\n",
    "pca = PCA(n_components=3)\n",
    "principalComponents = pca.fit_transform(words_vector)\n",
    "\n",
    "# Creating a dataframe with the 3D word vectors to plot them\n",
    "df = pd.DataFrame(principalComponents, columns=['x', 'y', 'z'])\n",
    "df['word'] = words\n",
    "\n",
    "# Plotting the 3D word vectors\n",
    "fig = px.scatter_3d(df, x='x', y='y', z='z', text='word')\n",
    "fig.update_traces(textposition='top center')\n",
    "fig.update_layout(title='Word vectors in 3D')\n",
    "fig.show()"
   ]
  },
  {
   "cell_type": "markdown",
   "metadata": {},
   "source": [
    "# Exercise IV – Categorizing text with semantic similarity"
   ]
  },
  {
   "cell_type": "code",
   "execution_count": 19,
   "metadata": {},
   "outputs": [
    {
     "data": {
      "text/plain": [
       "[(0.51, I loved this fragrance: light, floral and feminine),\n",
       " (0.43, I purchased a bottle of wine),\n",
       " (0.28, I purchased a science fiction book last week)]"
      ]
     },
     "execution_count": 19,
     "metadata": {},
     "output_type": "execute_result"
    }
   ],
   "source": [
    "sentences = [\"I purchased a science fiction book last week\",\n",
    "                \"I loved this fragrance: light, floral and feminine\",\n",
    "                \"I purchased a bottle of wine\"] \n",
    "keyword = \"perfume\"\n",
    "\n",
    "# Computing the vector of each sentence\n",
    "sentences_vector = [word2vec(sentence) for sentence in sentences]\n",
    "\n",
    "# Computing the similarity between the keyword and each sentence\n",
    "similarity = [(round(word2vec(keyword).similarity(sentence), 2), sentence) for sentence in sentences_vector]\n",
    "similarity.sort(reverse=True)\n",
    "similarity"
   ]
  },
  {
   "cell_type": "markdown",
   "metadata": {},
   "source": [
    "# Load the Alexa’s review dataset, and filter out the reviews which are not associated with the “music” property\n"
   ]
  },
  {
   "cell_type": "code",
   "execution_count": 20,
   "metadata": {},
   "outputs": [
    {
     "data": {
      "text/html": [
       "<div>\n",
       "<style scoped>\n",
       "    .dataframe tbody tr th:only-of-type {\n",
       "        vertical-align: middle;\n",
       "    }\n",
       "\n",
       "    .dataframe tbody tr th {\n",
       "        vertical-align: top;\n",
       "    }\n",
       "\n",
       "    .dataframe thead th {\n",
       "        text-align: right;\n",
       "    }\n",
       "</style>\n",
       "<table border=\"1\" class=\"dataframe\">\n",
       "  <thead>\n",
       "    <tr style=\"text-align: right;\">\n",
       "      <th></th>\n",
       "      <th>rating</th>\n",
       "      <th>date</th>\n",
       "      <th>variation</th>\n",
       "      <th>verified_reviews</th>\n",
       "      <th>feedback</th>\n",
       "    </tr>\n",
       "  </thead>\n",
       "  <tbody>\n",
       "    <tr>\n",
       "      <th>0</th>\n",
       "      <td>5</td>\n",
       "      <td>31-Jul-18</td>\n",
       "      <td>Charcoal Fabric</td>\n",
       "      <td>Love my Echo!</td>\n",
       "      <td>1</td>\n",
       "    </tr>\n",
       "    <tr>\n",
       "      <th>1</th>\n",
       "      <td>5</td>\n",
       "      <td>31-Jul-18</td>\n",
       "      <td>Charcoal Fabric</td>\n",
       "      <td>Loved it!</td>\n",
       "      <td>1</td>\n",
       "    </tr>\n",
       "    <tr>\n",
       "      <th>2</th>\n",
       "      <td>4</td>\n",
       "      <td>31-Jul-18</td>\n",
       "      <td>Walnut Finish</td>\n",
       "      <td>Sometimes while playing a game, you can answer...</td>\n",
       "      <td>1</td>\n",
       "    </tr>\n",
       "    <tr>\n",
       "      <th>3</th>\n",
       "      <td>5</td>\n",
       "      <td>31-Jul-18</td>\n",
       "      <td>Charcoal Fabric</td>\n",
       "      <td>I have had a lot of fun with this thing. My 4 ...</td>\n",
       "      <td>1</td>\n",
       "    </tr>\n",
       "    <tr>\n",
       "      <th>4</th>\n",
       "      <td>5</td>\n",
       "      <td>31-Jul-18</td>\n",
       "      <td>Charcoal Fabric</td>\n",
       "      <td>Music</td>\n",
       "      <td>1</td>\n",
       "    </tr>\n",
       "  </tbody>\n",
       "</table>\n",
       "</div>"
      ],
      "text/plain": [
       "   rating       date         variation  \\\n",
       "0       5  31-Jul-18  Charcoal Fabric    \n",
       "1       5  31-Jul-18  Charcoal Fabric    \n",
       "2       4  31-Jul-18    Walnut Finish    \n",
       "3       5  31-Jul-18  Charcoal Fabric    \n",
       "4       5  31-Jul-18  Charcoal Fabric    \n",
       "\n",
       "                                    verified_reviews  feedback  \n",
       "0                                      Love my Echo!         1  \n",
       "1                                          Loved it!         1  \n",
       "2  Sometimes while playing a game, you can answer...         1  \n",
       "3  I have had a lot of fun with this thing. My 4 ...         1  \n",
       "4                                              Music         1  "
      ]
     },
     "execution_count": 20,
     "metadata": {},
     "output_type": "execute_result"
    }
   ],
   "source": [
    "# Loading the dataset\n",
    "amazon = pd.read_csv('amazon_alexa.tsv', sep='\\t')\n",
    "amazon.head()"
   ]
  },
  {
   "cell_type": "code",
   "execution_count": 56,
   "metadata": {},
   "outputs": [
    {
     "name": "stdout",
     "output_type": "stream",
     "text": [
      "['Love my Echo!', 'Loved it!', 'Sometimes while playing a game, you can answer a question correctly but Alexa says you got it wrong and answers the same as you.  I like being able to turn lights on and off while away from home.', 'I have had a lot of fun with this thing. My 4 yr old learns about dinosaurs, i control the lights and play games like categories. Has nice sound when playing music as well.', 'Music']\n"
     ]
    }
   ],
   "source": [
    "# Creating a list with the reviews\n",
    "list_reviews = amazon['verified_reviews'].tolist()\n",
    "print(list_reviews[:5])"
   ]
  },
  {
   "cell_type": "code",
   "execution_count": 63,
   "metadata": {},
   "outputs": [
    {
     "name": "stderr",
     "output_type": "stream",
     "text": [
      "C:\\Users\\Joan\\AppData\\Local\\Temp\\ipykernel_4592\\2733762873.py:3: UserWarning: [W008] Evaluating Doc.similarity based on empty vectors.\n",
      "  similarity = [music.similarity(review) for review in music_reviews]\n"
     ]
    }
   ],
   "source": [
    "# Computing the vector of each review and the similarity between the word 'music' and each review\n",
    "music = word2vec('music')\n",
    "music_reviews = [word2vec(str(review)) for review in list_reviews]\n",
    "similarity = [music.similarity(review) for review in music_reviews]"
   ]
  },
  {
   "cell_type": "code",
   "execution_count": 64,
   "metadata": {},
   "outputs": [
    {
     "name": "stdout",
     "output_type": "stream",
     "text": [
      "['Music', 'The sound is amazing and many collections of all music', 'Clear music', 'Listen music and set timer', 'Love the feature to play music in every room with multiple Echos.']\n"
     ]
    }
   ],
   "source": [
    "# Filtering out the reviews with a similarity lower or equal than 0.5\n",
    "filtered_reviews = [review for review, similarity in zip(list_reviews, similarity) if float(similarity) > 0.5]\n",
    "print(filtered_reviews[:5])"
   ]
  },
  {
   "cell_type": "markdown",
   "metadata": {},
   "source": [
    "#### Adding a preprocess step to the reviews"
   ]
  },
  {
   "cell_type": "code",
   "execution_count": 21,
   "metadata": {},
   "outputs": [],
   "source": [
    "# Defining the stopwords\n",
    "stopwords_s = stopwords.words()\n",
    "def preprocess(string):\n",
    "    # Lowercasing all the words and removing the stopwords\n",
    "    return \" \".join(word.lower() \n",
    "     for word in str(string).split() if word not in stopwords_s)"
   ]
  },
  {
   "cell_type": "code",
   "execution_count": 22,
   "metadata": {},
   "outputs": [],
   "source": [
    "# Clean the reviews\n",
    "amazon['verfied_reviews_curated'] = amazon['verified_reviews'].apply(preprocess)\n",
    "\n",
    "# Obtaining the list of curated reviews\n",
    "reviews_list = amazon['verfied_reviews_curated'].to_list()\n",
    "review_originals = amazon['verified_reviews']\n",
    "\n",
    "# Obtaining the embeddings for the processed reviews\n",
    "review_embeddings = [(word2vec(str(review)), review_original) for review, review_original in zip(reviews_list, review_originals)]\n",
    "# Obtaining the embedding for the word 'music'\n",
    "word_embeddings = word2vec(\"music\")"
   ]
  },
  {
   "cell_type": "code",
   "execution_count": 23,
   "metadata": {},
   "outputs": [
    {
     "name": "stderr",
     "output_type": "stream",
     "text": [
      "C:\\Users\\34644\\AppData\\Local\\Temp\\ipykernel_10752\\2300918319.py:1: UserWarning: [W008] Evaluating Doc.similarity based on empty vectors.\n",
      "  similarities = [(round(word_embeddings.similarity(embedding), 2), review)\n"
     ]
    }
   ],
   "source": [
    "# Computing the similarity between the word 'music' and each processed review\n",
    "similarities = [(round(word_embeddings.similarity(embedding), 2), review) \n",
    "                for embedding, review in review_embeddings]"
   ]
  },
  {
   "cell_type": "code",
   "execution_count": 24,
   "metadata": {},
   "outputs": [],
   "source": [
    "# Use filter to get the reviews with a similarity higher than the threshold\n",
    "threshold = 0.5\n",
    "similar_reviews = list(filter(lambda x: x[0] > threshold, similarities))\n",
    "similar_reviews.sort(reverse = True)"
   ]
  },
  {
   "cell_type": "code",
   "execution_count": 26,
   "metadata": {},
   "outputs": [
    {
     "data": {
      "text/plain": [
       "[(1.0, 'Music'),\n",
       " (0.8, 'Sound is terrible if u want good music too get a bose'),\n",
       " (0.8, 'Sound is terrible if u want good music too get a bose'),\n",
       " (0.8, 'Clear music'),\n",
       " (0.8, 'Clear music'),\n",
       " (0.78, 'Love the music the stories'),\n",
       " (0.77, 'Music mainly but still checking other features'),\n",
       " (0.74, 'The sound is amazing and many collections of all music'),\n",
       " (0.74, 'The sound is amazing and many collections of all music'),\n",
       " (0.67, 'Great product we listen to music all the time')]"
      ]
     },
     "execution_count": 26,
     "metadata": {},
     "output_type": "execute_result"
    }
   ],
   "source": [
    "similar_reviews[:10]"
   ]
  }
 ],
 "metadata": {
  "kernelspec": {
   "display_name": "nlp",
   "language": "python",
   "name": "python3"
  },
  "language_info": {
   "codemirror_mode": {
    "name": "ipython",
    "version": 3
   },
   "file_extension": ".py",
   "mimetype": "text/x-python",
   "name": "python",
   "nbconvert_exporter": "python",
   "pygments_lexer": "ipython3",
   "version": "3.11.7"
  }
 },
 "nbformat": 4,
 "nbformat_minor": 2
}
